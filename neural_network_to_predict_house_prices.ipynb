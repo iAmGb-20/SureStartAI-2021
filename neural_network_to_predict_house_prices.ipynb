{
  "nbformat": 4,
  "nbformat_minor": 0,
  "metadata": {
    "colab": {
      "name": "neural_network_to_predict_house_prices.ipynb",
      "provenance": []
    },
    "kernelspec": {
      "name": "python3",
      "display_name": "Python 3"
    },
    "accelerator": "GPU"
  },
  "cells": [
    {
      "cell_type": "code",
      "metadata": {
        "id": "hNRupJbdXtGA"
      },
      "source": [
        "import pandas as pd\n",
        "import io\n",
        "from keras import models\n",
        "from keras import layers\n",
        "from keras import regularizers\n",
        "from sklearn import preprocessing\n",
        "from sklearn.model_selection import train_test_split\n",
        "from keras.models import Sequential\n",
        "from keras.layers import Dense\n",
        "import matplotlib.pyplot as plt\n",
        "from keras.layers import Dropout\n",
        "from keras import regularizers\n",
        "NB_WORDS = 10000  # Parameter indicating the number of words we'll put in the dictionary\n",
        "NB_START_EPOCHS = 20  # Number of epochs we usually start to train with\n",
        "BATCH_SIZE = 512  # Size of the batches used in the mini-batch gradient descent\n",
        "MAX_LEN = 20  # Maximum number of words in a sequence\n"
      ],
      "execution_count": 29,
      "outputs": []
    },
    {
      "cell_type": "code",
      "metadata": {
        "colab": {
          "resources": {
            "http://localhost:8080/nbextensions/google.colab/files.js": {
              "data": "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",
              "ok": true,
              "headers": [
                [
                  "content-type",
                  "application/javascript"
                ]
              ],
              "status": 200,
              "status_text": ""
            }
          },
          "base_uri": "https://localhost:8080/",
          "height": 72
        },
        "id": "h8eb24CkXQzu",
        "outputId": "fce83613-fc23-40e6-d388-6db227ea33c6"
      },
      "source": [
        "from google.colab import files\n",
        "uploaded = files.upload()"
      ],
      "execution_count": 8,
      "outputs": [
        {
          "output_type": "display_data",
          "data": {
            "text/html": [
              "\n",
              "     <input type=\"file\" id=\"files-4b249c55-fef4-4a5d-95e6-cdda2922f79b\" name=\"files[]\" multiple disabled\n",
              "        style=\"border:none\" />\n",
              "     <output id=\"result-4b249c55-fef4-4a5d-95e6-cdda2922f79b\">\n",
              "      Upload widget is only available when the cell has been executed in the\n",
              "      current browser session. Please rerun this cell to enable.\n",
              "      </output>\n",
              "      <script src=\"/nbextensions/google.colab/files.js\"></script> "
            ],
            "text/plain": [
              "<IPython.core.display.HTML object>"
            ]
          },
          "metadata": {
            "tags": []
          }
        },
        {
          "output_type": "stream",
          "text": [
            "Saving housepricedata.csv to housepricedata.csv\n"
          ],
          "name": "stdout"
        }
      ]
    },
    {
      "cell_type": "code",
      "metadata": {
        "id": "LV5Ru5OuYIa-"
      },
      "source": [
        "df = pd.read_csv('housepricedata.csv')"
      ],
      "execution_count": 10,
      "outputs": []
    },
    {
      "cell_type": "code",
      "metadata": {
        "colab": {
          "base_uri": "https://localhost:8080/",
          "height": 439
        },
        "id": "5CYHh_kwYOGN",
        "outputId": "edfb0749-4ac7-47c1-b200-335ecb51abc2"
      },
      "source": [
        "df"
      ],
      "execution_count": 11,
      "outputs": [
        {
          "output_type": "execute_result",
          "data": {
            "text/html": [
              "<div>\n",
              "<style scoped>\n",
              "    .dataframe tbody tr th:only-of-type {\n",
              "        vertical-align: middle;\n",
              "    }\n",
              "\n",
              "    .dataframe tbody tr th {\n",
              "        vertical-align: top;\n",
              "    }\n",
              "\n",
              "    .dataframe thead th {\n",
              "        text-align: right;\n",
              "    }\n",
              "</style>\n",
              "<table border=\"1\" class=\"dataframe\">\n",
              "  <thead>\n",
              "    <tr style=\"text-align: right;\">\n",
              "      <th></th>\n",
              "      <th>LotArea</th>\n",
              "      <th>OverallQual</th>\n",
              "      <th>OverallCond</th>\n",
              "      <th>TotalBsmtSF</th>\n",
              "      <th>FullBath</th>\n",
              "      <th>HalfBath</th>\n",
              "      <th>BedroomAbvGr</th>\n",
              "      <th>TotRmsAbvGrd</th>\n",
              "      <th>Fireplaces</th>\n",
              "      <th>GarageArea</th>\n",
              "      <th>AboveMedianPrice</th>\n",
              "    </tr>\n",
              "  </thead>\n",
              "  <tbody>\n",
              "    <tr>\n",
              "      <th>0</th>\n",
              "      <td>8450</td>\n",
              "      <td>7</td>\n",
              "      <td>5</td>\n",
              "      <td>856</td>\n",
              "      <td>2</td>\n",
              "      <td>1</td>\n",
              "      <td>3</td>\n",
              "      <td>8</td>\n",
              "      <td>0</td>\n",
              "      <td>548</td>\n",
              "      <td>1</td>\n",
              "    </tr>\n",
              "    <tr>\n",
              "      <th>1</th>\n",
              "      <td>9600</td>\n",
              "      <td>6</td>\n",
              "      <td>8</td>\n",
              "      <td>1262</td>\n",
              "      <td>2</td>\n",
              "      <td>0</td>\n",
              "      <td>3</td>\n",
              "      <td>6</td>\n",
              "      <td>1</td>\n",
              "      <td>460</td>\n",
              "      <td>1</td>\n",
              "    </tr>\n",
              "    <tr>\n",
              "      <th>2</th>\n",
              "      <td>11250</td>\n",
              "      <td>7</td>\n",
              "      <td>5</td>\n",
              "      <td>920</td>\n",
              "      <td>2</td>\n",
              "      <td>1</td>\n",
              "      <td>3</td>\n",
              "      <td>6</td>\n",
              "      <td>1</td>\n",
              "      <td>608</td>\n",
              "      <td>1</td>\n",
              "    </tr>\n",
              "    <tr>\n",
              "      <th>3</th>\n",
              "      <td>9550</td>\n",
              "      <td>7</td>\n",
              "      <td>5</td>\n",
              "      <td>756</td>\n",
              "      <td>1</td>\n",
              "      <td>0</td>\n",
              "      <td>3</td>\n",
              "      <td>7</td>\n",
              "      <td>1</td>\n",
              "      <td>642</td>\n",
              "      <td>0</td>\n",
              "    </tr>\n",
              "    <tr>\n",
              "      <th>4</th>\n",
              "      <td>14260</td>\n",
              "      <td>8</td>\n",
              "      <td>5</td>\n",
              "      <td>1145</td>\n",
              "      <td>2</td>\n",
              "      <td>1</td>\n",
              "      <td>4</td>\n",
              "      <td>9</td>\n",
              "      <td>1</td>\n",
              "      <td>836</td>\n",
              "      <td>1</td>\n",
              "    </tr>\n",
              "    <tr>\n",
              "      <th>...</th>\n",
              "      <td>...</td>\n",
              "      <td>...</td>\n",
              "      <td>...</td>\n",
              "      <td>...</td>\n",
              "      <td>...</td>\n",
              "      <td>...</td>\n",
              "      <td>...</td>\n",
              "      <td>...</td>\n",
              "      <td>...</td>\n",
              "      <td>...</td>\n",
              "      <td>...</td>\n",
              "    </tr>\n",
              "    <tr>\n",
              "      <th>1455</th>\n",
              "      <td>7917</td>\n",
              "      <td>6</td>\n",
              "      <td>5</td>\n",
              "      <td>953</td>\n",
              "      <td>2</td>\n",
              "      <td>1</td>\n",
              "      <td>3</td>\n",
              "      <td>7</td>\n",
              "      <td>1</td>\n",
              "      <td>460</td>\n",
              "      <td>1</td>\n",
              "    </tr>\n",
              "    <tr>\n",
              "      <th>1456</th>\n",
              "      <td>13175</td>\n",
              "      <td>6</td>\n",
              "      <td>6</td>\n",
              "      <td>1542</td>\n",
              "      <td>2</td>\n",
              "      <td>0</td>\n",
              "      <td>3</td>\n",
              "      <td>7</td>\n",
              "      <td>2</td>\n",
              "      <td>500</td>\n",
              "      <td>1</td>\n",
              "    </tr>\n",
              "    <tr>\n",
              "      <th>1457</th>\n",
              "      <td>9042</td>\n",
              "      <td>7</td>\n",
              "      <td>9</td>\n",
              "      <td>1152</td>\n",
              "      <td>2</td>\n",
              "      <td>0</td>\n",
              "      <td>4</td>\n",
              "      <td>9</td>\n",
              "      <td>2</td>\n",
              "      <td>252</td>\n",
              "      <td>1</td>\n",
              "    </tr>\n",
              "    <tr>\n",
              "      <th>1458</th>\n",
              "      <td>9717</td>\n",
              "      <td>5</td>\n",
              "      <td>6</td>\n",
              "      <td>1078</td>\n",
              "      <td>1</td>\n",
              "      <td>0</td>\n",
              "      <td>2</td>\n",
              "      <td>5</td>\n",
              "      <td>0</td>\n",
              "      <td>240</td>\n",
              "      <td>0</td>\n",
              "    </tr>\n",
              "    <tr>\n",
              "      <th>1459</th>\n",
              "      <td>9937</td>\n",
              "      <td>5</td>\n",
              "      <td>6</td>\n",
              "      <td>1256</td>\n",
              "      <td>1</td>\n",
              "      <td>1</td>\n",
              "      <td>3</td>\n",
              "      <td>6</td>\n",
              "      <td>0</td>\n",
              "      <td>276</td>\n",
              "      <td>0</td>\n",
              "    </tr>\n",
              "  </tbody>\n",
              "</table>\n",
              "<p>1460 rows × 11 columns</p>\n",
              "</div>"
            ],
            "text/plain": [
              "      LotArea  OverallQual  ...  GarageArea  AboveMedianPrice\n",
              "0        8450            7  ...         548                 1\n",
              "1        9600            6  ...         460                 1\n",
              "2       11250            7  ...         608                 1\n",
              "3        9550            7  ...         642                 0\n",
              "4       14260            8  ...         836                 1\n",
              "...       ...          ...  ...         ...               ...\n",
              "1455     7917            6  ...         460                 1\n",
              "1456    13175            6  ...         500                 1\n",
              "1457     9042            7  ...         252                 1\n",
              "1458     9717            5  ...         240                 0\n",
              "1459     9937            5  ...         276                 0\n",
              "\n",
              "[1460 rows x 11 columns]"
            ]
          },
          "metadata": {
            "tags": []
          },
          "execution_count": 11
        }
      ]
    },
    {
      "cell_type": "code",
      "metadata": {
        "id": "bV4X6-RQYPKN"
      },
      "source": [
        "dataset = df.values"
      ],
      "execution_count": 12,
      "outputs": []
    },
    {
      "cell_type": "code",
      "metadata": {
        "colab": {
          "base_uri": "https://localhost:8080/"
        },
        "id": "7KaucvzOYSa_",
        "outputId": "b230bdf2-ad2d-4ab5-d5c9-3f90ad22fd0a"
      },
      "source": [
        "dataset"
      ],
      "execution_count": 13,
      "outputs": [
        {
          "output_type": "execute_result",
          "data": {
            "text/plain": [
              "array([[ 8450,     7,     5, ...,     0,   548,     1],\n",
              "       [ 9600,     6,     8, ...,     1,   460,     1],\n",
              "       [11250,     7,     5, ...,     1,   608,     1],\n",
              "       ...,\n",
              "       [ 9042,     7,     9, ...,     2,   252,     1],\n",
              "       [ 9717,     5,     6, ...,     0,   240,     0],\n",
              "       [ 9937,     5,     6, ...,     0,   276,     0]])"
            ]
          },
          "metadata": {
            "tags": []
          },
          "execution_count": 13
        }
      ]
    },
    {
      "cell_type": "code",
      "metadata": {
        "id": "PQfZbqrqYWvW"
      },
      "source": [
        "X = dataset[:,0:10]"
      ],
      "execution_count": 14,
      "outputs": []
    },
    {
      "cell_type": "code",
      "metadata": {
        "id": "8DL7ntpWYbs9"
      },
      "source": [
        "Y = dataset[:,10]"
      ],
      "execution_count": 15,
      "outputs": []
    },
    {
      "cell_type": "code",
      "metadata": {
        "id": "9R5_d4E5YfwO"
      },
      "source": [
        "min_max_scaler = preprocessing.MinMaxScaler()\n",
        "X_scale = min_max_scaler.fit_transform(X)"
      ],
      "execution_count": 16,
      "outputs": []
    },
    {
      "cell_type": "code",
      "metadata": {
        "colab": {
          "base_uri": "https://localhost:8080/"
        },
        "id": "eKk2v4CkYhMN",
        "outputId": "99997c49-b286-469c-b137-ded22a587071"
      },
      "source": [
        "X_scale"
      ],
      "execution_count": 17,
      "outputs": [
        {
          "output_type": "execute_result",
          "data": {
            "text/plain": [
              "array([[0.0334198 , 0.66666667, 0.5       , ..., 0.5       , 0.        ,\n",
              "        0.3864598 ],\n",
              "       [0.03879502, 0.55555556, 0.875     , ..., 0.33333333, 0.33333333,\n",
              "        0.32440056],\n",
              "       [0.04650728, 0.66666667, 0.5       , ..., 0.33333333, 0.33333333,\n",
              "        0.42877292],\n",
              "       ...,\n",
              "       [0.03618687, 0.66666667, 1.        , ..., 0.58333333, 0.66666667,\n",
              "        0.17771509],\n",
              "       [0.03934189, 0.44444444, 0.625     , ..., 0.25      , 0.        ,\n",
              "        0.16925247],\n",
              "       [0.04037019, 0.44444444, 0.625     , ..., 0.33333333, 0.        ,\n",
              "        0.19464034]])"
            ]
          },
          "metadata": {
            "tags": []
          },
          "execution_count": 17
        }
      ]
    },
    {
      "cell_type": "code",
      "metadata": {
        "id": "K7mcOwY7Yjve"
      },
      "source": [
        "#split the train and test data\n",
        "X_train, X_val_and_test, Y_train, Y_val_and_test = train_test_split(X_scale, Y, test_size=0.3)"
      ],
      "execution_count": 18,
      "outputs": []
    },
    {
      "cell_type": "code",
      "metadata": {
        "id": "_D4dOUvDYqqF"
      },
      "source": [
        "X_val, X_test, Y_val, Y_test = train_test_split(X_val_and_test, Y_val_and_test, test_size=0.5)"
      ],
      "execution_count": 19,
      "outputs": []
    },
    {
      "cell_type": "code",
      "metadata": {
        "colab": {
          "base_uri": "https://localhost:8080/"
        },
        "id": "UVhEqvi-Ys2F",
        "outputId": "d37fd06b-6679-401f-cc6b-fc9efcbda82b"
      },
      "source": [
        "print(X_train.shape, X_val.shape, X_test.shape, Y_train.shape, Y_val.shape, Y_test.shape)"
      ],
      "execution_count": 20,
      "outputs": [
        {
          "output_type": "stream",
          "text": [
            "(1022, 10) (219, 10) (219, 10) (1022,) (219,) (219,)\n"
          ],
          "name": "stdout"
        }
      ]
    },
    {
      "cell_type": "code",
      "metadata": {
        "id": "lWhQ7WGxYx41"
      },
      "source": [
        "model = Sequential([\n",
        "    Dense(32, activation='relu', input_shape=(10,)),\n",
        "    Dense(32, activation='relu'),\n",
        "    Dense(1, activation='sigmoid'),\n",
        "])"
      ],
      "execution_count": 21,
      "outputs": []
    },
    {
      "cell_type": "code",
      "metadata": {
        "id": "MvYs5T2QY9Rd"
      },
      "source": [
        "model.compile(optimizer='rmsprop',\n",
        "              loss='categorical_crossentropy',\n",
        "              metrics=['accuracy'])"
      ],
      "execution_count": 22,
      "outputs": []
    },
    {
      "cell_type": "code",
      "metadata": {
        "colab": {
          "base_uri": "https://localhost:8080/"
        },
        "id": "f97N-8u4ZCOV",
        "outputId": "046b8ea0-faf2-4b76-cbd7-8583c8dc3c3c"
      },
      "source": [
        "hist = model.fit(X_train, Y_train,\n",
        "          batch_size=32, epochs=100,\n",
        "          validation_data=(X_val, Y_val))"
      ],
      "execution_count": 23,
      "outputs": [
        {
          "output_type": "stream",
          "text": [
            "Epoch 1/100\n",
            "32/32 [==============================] - 2s 9ms/step - loss: 0.0000e+00 - accuracy: 0.5093 - val_loss: 0.0000e+00 - val_accuracy: 0.4795\n",
            "Epoch 2/100\n",
            "32/32 [==============================] - 0s 4ms/step - loss: 0.0000e+00 - accuracy: 0.5215 - val_loss: 0.0000e+00 - val_accuracy: 0.4795\n",
            "Epoch 3/100\n",
            "32/32 [==============================] - 0s 4ms/step - loss: 0.0000e+00 - accuracy: 0.5191 - val_loss: 0.0000e+00 - val_accuracy: 0.4795\n",
            "Epoch 4/100\n",
            "32/32 [==============================] - 0s 4ms/step - loss: 0.0000e+00 - accuracy: 0.4909 - val_loss: 0.0000e+00 - val_accuracy: 0.4795\n",
            "Epoch 5/100\n",
            "32/32 [==============================] - 0s 3ms/step - loss: 0.0000e+00 - accuracy: 0.4872 - val_loss: 0.0000e+00 - val_accuracy: 0.4795\n",
            "Epoch 6/100\n",
            "32/32 [==============================] - 0s 4ms/step - loss: 0.0000e+00 - accuracy: 0.5303 - val_loss: 0.0000e+00 - val_accuracy: 0.4795\n",
            "Epoch 7/100\n",
            "32/32 [==============================] - 0s 3ms/step - loss: 0.0000e+00 - accuracy: 0.5056 - val_loss: 0.0000e+00 - val_accuracy: 0.4795\n",
            "Epoch 8/100\n",
            "32/32 [==============================] - 0s 4ms/step - loss: 0.0000e+00 - accuracy: 0.5004 - val_loss: 0.0000e+00 - val_accuracy: 0.4795\n",
            "Epoch 9/100\n",
            "32/32 [==============================] - 0s 4ms/step - loss: 0.0000e+00 - accuracy: 0.5231 - val_loss: 0.0000e+00 - val_accuracy: 0.4795\n",
            "Epoch 10/100\n",
            "32/32 [==============================] - 0s 3ms/step - loss: 0.0000e+00 - accuracy: 0.5174 - val_loss: 0.0000e+00 - val_accuracy: 0.4795\n",
            "Epoch 11/100\n",
            "32/32 [==============================] - 0s 4ms/step - loss: 0.0000e+00 - accuracy: 0.5022 - val_loss: 0.0000e+00 - val_accuracy: 0.4795\n",
            "Epoch 12/100\n",
            "32/32 [==============================] - 0s 4ms/step - loss: 0.0000e+00 - accuracy: 0.5102 - val_loss: 0.0000e+00 - val_accuracy: 0.4795\n",
            "Epoch 13/100\n",
            "32/32 [==============================] - 0s 4ms/step - loss: 0.0000e+00 - accuracy: 0.5253 - val_loss: 0.0000e+00 - val_accuracy: 0.4795\n",
            "Epoch 14/100\n",
            "32/32 [==============================] - 0s 3ms/step - loss: 0.0000e+00 - accuracy: 0.5213 - val_loss: 0.0000e+00 - val_accuracy: 0.4795\n",
            "Epoch 15/100\n",
            "32/32 [==============================] - 0s 3ms/step - loss: 0.0000e+00 - accuracy: 0.4931 - val_loss: 0.0000e+00 - val_accuracy: 0.4795\n",
            "Epoch 16/100\n",
            "32/32 [==============================] - 0s 3ms/step - loss: 0.0000e+00 - accuracy: 0.5087 - val_loss: 0.0000e+00 - val_accuracy: 0.4795\n",
            "Epoch 17/100\n",
            "32/32 [==============================] - 0s 3ms/step - loss: 0.0000e+00 - accuracy: 0.4932 - val_loss: 0.0000e+00 - val_accuracy: 0.4795\n",
            "Epoch 18/100\n",
            "32/32 [==============================] - 0s 4ms/step - loss: 0.0000e+00 - accuracy: 0.5118 - val_loss: 0.0000e+00 - val_accuracy: 0.4795\n",
            "Epoch 19/100\n",
            "32/32 [==============================] - 0s 4ms/step - loss: 0.0000e+00 - accuracy: 0.5107 - val_loss: 0.0000e+00 - val_accuracy: 0.4795\n",
            "Epoch 20/100\n",
            "32/32 [==============================] - 0s 4ms/step - loss: 0.0000e+00 - accuracy: 0.5158 - val_loss: 0.0000e+00 - val_accuracy: 0.4795\n",
            "Epoch 21/100\n",
            "32/32 [==============================] - 0s 4ms/step - loss: 0.0000e+00 - accuracy: 0.5191 - val_loss: 0.0000e+00 - val_accuracy: 0.4795\n",
            "Epoch 22/100\n",
            "32/32 [==============================] - 0s 4ms/step - loss: 0.0000e+00 - accuracy: 0.5051 - val_loss: 0.0000e+00 - val_accuracy: 0.4795\n",
            "Epoch 23/100\n",
            "32/32 [==============================] - 0s 4ms/step - loss: 0.0000e+00 - accuracy: 0.5131 - val_loss: 0.0000e+00 - val_accuracy: 0.4795\n",
            "Epoch 24/100\n",
            "32/32 [==============================] - 0s 4ms/step - loss: 0.0000e+00 - accuracy: 0.5345 - val_loss: 0.0000e+00 - val_accuracy: 0.4795\n",
            "Epoch 25/100\n",
            "32/32 [==============================] - 0s 4ms/step - loss: 0.0000e+00 - accuracy: 0.4918 - val_loss: 0.0000e+00 - val_accuracy: 0.4795\n",
            "Epoch 26/100\n",
            "32/32 [==============================] - 0s 4ms/step - loss: 0.0000e+00 - accuracy: 0.4931 - val_loss: 0.0000e+00 - val_accuracy: 0.4795\n",
            "Epoch 27/100\n",
            "32/32 [==============================] - 0s 3ms/step - loss: 0.0000e+00 - accuracy: 0.5304 - val_loss: 0.0000e+00 - val_accuracy: 0.4795\n",
            "Epoch 28/100\n",
            "32/32 [==============================] - 0s 4ms/step - loss: 0.0000e+00 - accuracy: 0.5089 - val_loss: 0.0000e+00 - val_accuracy: 0.4795\n",
            "Epoch 29/100\n",
            "32/32 [==============================] - 0s 3ms/step - loss: 0.0000e+00 - accuracy: 0.5132 - val_loss: 0.0000e+00 - val_accuracy: 0.4795\n",
            "Epoch 30/100\n",
            "32/32 [==============================] - 0s 3ms/step - loss: 0.0000e+00 - accuracy: 0.4941 - val_loss: 0.0000e+00 - val_accuracy: 0.4795\n",
            "Epoch 31/100\n",
            "32/32 [==============================] - 0s 4ms/step - loss: 0.0000e+00 - accuracy: 0.4990 - val_loss: 0.0000e+00 - val_accuracy: 0.4795\n",
            "Epoch 32/100\n",
            "32/32 [==============================] - 0s 3ms/step - loss: 0.0000e+00 - accuracy: 0.5087 - val_loss: 0.0000e+00 - val_accuracy: 0.4795\n",
            "Epoch 33/100\n",
            "32/32 [==============================] - 0s 3ms/step - loss: 0.0000e+00 - accuracy: 0.5076 - val_loss: 0.0000e+00 - val_accuracy: 0.4795\n",
            "Epoch 34/100\n",
            "32/32 [==============================] - 0s 3ms/step - loss: 0.0000e+00 - accuracy: 0.5168 - val_loss: 0.0000e+00 - val_accuracy: 0.4795\n",
            "Epoch 35/100\n",
            "32/32 [==============================] - 0s 3ms/step - loss: 0.0000e+00 - accuracy: 0.5157 - val_loss: 0.0000e+00 - val_accuracy: 0.4795\n",
            "Epoch 36/100\n",
            "32/32 [==============================] - 0s 4ms/step - loss: 0.0000e+00 - accuracy: 0.4953 - val_loss: 0.0000e+00 - val_accuracy: 0.4795\n",
            "Epoch 37/100\n",
            "32/32 [==============================] - 0s 4ms/step - loss: 0.0000e+00 - accuracy: 0.5001 - val_loss: 0.0000e+00 - val_accuracy: 0.4795\n",
            "Epoch 38/100\n",
            "32/32 [==============================] - 0s 4ms/step - loss: 0.0000e+00 - accuracy: 0.4911 - val_loss: 0.0000e+00 - val_accuracy: 0.4795\n",
            "Epoch 39/100\n",
            "32/32 [==============================] - 0s 4ms/step - loss: 0.0000e+00 - accuracy: 0.4837 - val_loss: 0.0000e+00 - val_accuracy: 0.4795\n",
            "Epoch 40/100\n",
            "32/32 [==============================] - 0s 3ms/step - loss: 0.0000e+00 - accuracy: 0.4893 - val_loss: 0.0000e+00 - val_accuracy: 0.4795\n",
            "Epoch 41/100\n",
            "32/32 [==============================] - 0s 4ms/step - loss: 0.0000e+00 - accuracy: 0.4985 - val_loss: 0.0000e+00 - val_accuracy: 0.4795\n",
            "Epoch 42/100\n",
            "32/32 [==============================] - 0s 4ms/step - loss: 0.0000e+00 - accuracy: 0.5281 - val_loss: 0.0000e+00 - val_accuracy: 0.4795\n",
            "Epoch 43/100\n",
            "32/32 [==============================] - 0s 3ms/step - loss: 0.0000e+00 - accuracy: 0.5325 - val_loss: 0.0000e+00 - val_accuracy: 0.4795\n",
            "Epoch 44/100\n",
            "32/32 [==============================] - 0s 3ms/step - loss: 0.0000e+00 - accuracy: 0.5185 - val_loss: 0.0000e+00 - val_accuracy: 0.4795\n",
            "Epoch 45/100\n",
            "32/32 [==============================] - 0s 4ms/step - loss: 0.0000e+00 - accuracy: 0.5102 - val_loss: 0.0000e+00 - val_accuracy: 0.4795\n",
            "Epoch 46/100\n",
            "32/32 [==============================] - 0s 4ms/step - loss: 0.0000e+00 - accuracy: 0.5198 - val_loss: 0.0000e+00 - val_accuracy: 0.4795\n",
            "Epoch 47/100\n",
            "32/32 [==============================] - 0s 3ms/step - loss: 0.0000e+00 - accuracy: 0.5279 - val_loss: 0.0000e+00 - val_accuracy: 0.4795\n",
            "Epoch 48/100\n",
            "32/32 [==============================] - 0s 3ms/step - loss: 0.0000e+00 - accuracy: 0.5045 - val_loss: 0.0000e+00 - val_accuracy: 0.4795\n",
            "Epoch 49/100\n",
            "32/32 [==============================] - 0s 3ms/step - loss: 0.0000e+00 - accuracy: 0.5047 - val_loss: 0.0000e+00 - val_accuracy: 0.4795\n",
            "Epoch 50/100\n",
            "32/32 [==============================] - 0s 3ms/step - loss: 0.0000e+00 - accuracy: 0.5021 - val_loss: 0.0000e+00 - val_accuracy: 0.4795\n",
            "Epoch 51/100\n",
            "32/32 [==============================] - 0s 4ms/step - loss: 0.0000e+00 - accuracy: 0.5171 - val_loss: 0.0000e+00 - val_accuracy: 0.4795\n",
            "Epoch 52/100\n",
            "32/32 [==============================] - 0s 3ms/step - loss: 0.0000e+00 - accuracy: 0.4656 - val_loss: 0.0000e+00 - val_accuracy: 0.4795\n",
            "Epoch 53/100\n",
            "32/32 [==============================] - 0s 3ms/step - loss: 0.0000e+00 - accuracy: 0.5095 - val_loss: 0.0000e+00 - val_accuracy: 0.4795\n",
            "Epoch 54/100\n",
            "32/32 [==============================] - 0s 4ms/step - loss: 0.0000e+00 - accuracy: 0.5080 - val_loss: 0.0000e+00 - val_accuracy: 0.4795\n",
            "Epoch 55/100\n",
            "32/32 [==============================] - 0s 3ms/step - loss: 0.0000e+00 - accuracy: 0.4857 - val_loss: 0.0000e+00 - val_accuracy: 0.4795\n",
            "Epoch 56/100\n",
            "32/32 [==============================] - 0s 3ms/step - loss: 0.0000e+00 - accuracy: 0.4958 - val_loss: 0.0000e+00 - val_accuracy: 0.4795\n",
            "Epoch 57/100\n",
            "32/32 [==============================] - 0s 3ms/step - loss: 0.0000e+00 - accuracy: 0.5217 - val_loss: 0.0000e+00 - val_accuracy: 0.4795\n",
            "Epoch 58/100\n",
            "32/32 [==============================] - 0s 3ms/step - loss: 0.0000e+00 - accuracy: 0.5163 - val_loss: 0.0000e+00 - val_accuracy: 0.4795\n",
            "Epoch 59/100\n",
            "32/32 [==============================] - 0s 3ms/step - loss: 0.0000e+00 - accuracy: 0.5210 - val_loss: 0.0000e+00 - val_accuracy: 0.4795\n",
            "Epoch 60/100\n",
            "32/32 [==============================] - 0s 3ms/step - loss: 0.0000e+00 - accuracy: 0.5065 - val_loss: 0.0000e+00 - val_accuracy: 0.4795\n",
            "Epoch 61/100\n",
            "32/32 [==============================] - 0s 4ms/step - loss: 0.0000e+00 - accuracy: 0.5179 - val_loss: 0.0000e+00 - val_accuracy: 0.4795\n",
            "Epoch 62/100\n",
            "32/32 [==============================] - 0s 3ms/step - loss: 0.0000e+00 - accuracy: 0.5003 - val_loss: 0.0000e+00 - val_accuracy: 0.4795\n",
            "Epoch 63/100\n",
            "32/32 [==============================] - 0s 3ms/step - loss: 0.0000e+00 - accuracy: 0.5333 - val_loss: 0.0000e+00 - val_accuracy: 0.4795\n",
            "Epoch 64/100\n",
            "32/32 [==============================] - 0s 3ms/step - loss: 0.0000e+00 - accuracy: 0.5248 - val_loss: 0.0000e+00 - val_accuracy: 0.4795\n",
            "Epoch 65/100\n",
            "32/32 [==============================] - 0s 3ms/step - loss: 0.0000e+00 - accuracy: 0.4903 - val_loss: 0.0000e+00 - val_accuracy: 0.4795\n",
            "Epoch 66/100\n",
            "32/32 [==============================] - 0s 3ms/step - loss: 0.0000e+00 - accuracy: 0.5225 - val_loss: 0.0000e+00 - val_accuracy: 0.4795\n",
            "Epoch 67/100\n",
            "32/32 [==============================] - 0s 3ms/step - loss: 0.0000e+00 - accuracy: 0.5077 - val_loss: 0.0000e+00 - val_accuracy: 0.4795\n",
            "Epoch 68/100\n",
            "32/32 [==============================] - 0s 3ms/step - loss: 0.0000e+00 - accuracy: 0.4993 - val_loss: 0.0000e+00 - val_accuracy: 0.4795\n",
            "Epoch 69/100\n",
            "32/32 [==============================] - 0s 3ms/step - loss: 0.0000e+00 - accuracy: 0.5055 - val_loss: 0.0000e+00 - val_accuracy: 0.4795\n",
            "Epoch 70/100\n",
            "32/32 [==============================] - 0s 3ms/step - loss: 0.0000e+00 - accuracy: 0.5248 - val_loss: 0.0000e+00 - val_accuracy: 0.4795\n",
            "Epoch 71/100\n",
            "32/32 [==============================] - 0s 3ms/step - loss: 0.0000e+00 - accuracy: 0.5359 - val_loss: 0.0000e+00 - val_accuracy: 0.4795\n",
            "Epoch 72/100\n",
            "32/32 [==============================] - 0s 4ms/step - loss: 0.0000e+00 - accuracy: 0.5222 - val_loss: 0.0000e+00 - val_accuracy: 0.4795\n",
            "Epoch 73/100\n",
            "32/32 [==============================] - 0s 3ms/step - loss: 0.0000e+00 - accuracy: 0.5074 - val_loss: 0.0000e+00 - val_accuracy: 0.4795\n",
            "Epoch 74/100\n",
            "32/32 [==============================] - 0s 4ms/step - loss: 0.0000e+00 - accuracy: 0.4918 - val_loss: 0.0000e+00 - val_accuracy: 0.4795\n",
            "Epoch 75/100\n",
            "32/32 [==============================] - 0s 4ms/step - loss: 0.0000e+00 - accuracy: 0.5095 - val_loss: 0.0000e+00 - val_accuracy: 0.4795\n",
            "Epoch 76/100\n",
            "32/32 [==============================] - 0s 4ms/step - loss: 0.0000e+00 - accuracy: 0.4942 - val_loss: 0.0000e+00 - val_accuracy: 0.4795\n",
            "Epoch 77/100\n",
            "32/32 [==============================] - 0s 4ms/step - loss: 0.0000e+00 - accuracy: 0.5005 - val_loss: 0.0000e+00 - val_accuracy: 0.4795\n",
            "Epoch 78/100\n",
            "32/32 [==============================] - 0s 4ms/step - loss: 0.0000e+00 - accuracy: 0.4900 - val_loss: 0.0000e+00 - val_accuracy: 0.4795\n",
            "Epoch 79/100\n",
            "32/32 [==============================] - 0s 3ms/step - loss: 0.0000e+00 - accuracy: 0.5167 - val_loss: 0.0000e+00 - val_accuracy: 0.4795\n",
            "Epoch 80/100\n",
            "32/32 [==============================] - 0s 4ms/step - loss: 0.0000e+00 - accuracy: 0.5225 - val_loss: 0.0000e+00 - val_accuracy: 0.4795\n",
            "Epoch 81/100\n",
            "32/32 [==============================] - 0s 3ms/step - loss: 0.0000e+00 - accuracy: 0.5219 - val_loss: 0.0000e+00 - val_accuracy: 0.4795\n",
            "Epoch 82/100\n",
            "32/32 [==============================] - 0s 4ms/step - loss: 0.0000e+00 - accuracy: 0.5157 - val_loss: 0.0000e+00 - val_accuracy: 0.4795\n",
            "Epoch 83/100\n",
            "32/32 [==============================] - 0s 4ms/step - loss: 0.0000e+00 - accuracy: 0.4944 - val_loss: 0.0000e+00 - val_accuracy: 0.4795\n",
            "Epoch 84/100\n",
            "32/32 [==============================] - 0s 3ms/step - loss: 0.0000e+00 - accuracy: 0.5081 - val_loss: 0.0000e+00 - val_accuracy: 0.4795\n",
            "Epoch 85/100\n",
            "32/32 [==============================] - 0s 4ms/step - loss: 0.0000e+00 - accuracy: 0.5110 - val_loss: 0.0000e+00 - val_accuracy: 0.4795\n",
            "Epoch 86/100\n",
            "32/32 [==============================] - 0s 4ms/step - loss: 0.0000e+00 - accuracy: 0.5265 - val_loss: 0.0000e+00 - val_accuracy: 0.4795\n",
            "Epoch 87/100\n",
            "32/32 [==============================] - 0s 4ms/step - loss: 0.0000e+00 - accuracy: 0.5246 - val_loss: 0.0000e+00 - val_accuracy: 0.4795\n",
            "Epoch 88/100\n",
            "32/32 [==============================] - 0s 3ms/step - loss: 0.0000e+00 - accuracy: 0.5125 - val_loss: 0.0000e+00 - val_accuracy: 0.4795\n",
            "Epoch 89/100\n",
            "32/32 [==============================] - 0s 4ms/step - loss: 0.0000e+00 - accuracy: 0.5397 - val_loss: 0.0000e+00 - val_accuracy: 0.4795\n",
            "Epoch 90/100\n",
            "32/32 [==============================] - 0s 3ms/step - loss: 0.0000e+00 - accuracy: 0.5117 - val_loss: 0.0000e+00 - val_accuracy: 0.4795\n",
            "Epoch 91/100\n",
            "32/32 [==============================] - 0s 4ms/step - loss: 0.0000e+00 - accuracy: 0.5238 - val_loss: 0.0000e+00 - val_accuracy: 0.4795\n",
            "Epoch 92/100\n",
            "32/32 [==============================] - 0s 4ms/step - loss: 0.0000e+00 - accuracy: 0.5128 - val_loss: 0.0000e+00 - val_accuracy: 0.4795\n",
            "Epoch 93/100\n",
            "32/32 [==============================] - 0s 3ms/step - loss: 0.0000e+00 - accuracy: 0.5106 - val_loss: 0.0000e+00 - val_accuracy: 0.4795\n",
            "Epoch 94/100\n",
            "32/32 [==============================] - 0s 3ms/step - loss: 0.0000e+00 - accuracy: 0.4864 - val_loss: 0.0000e+00 - val_accuracy: 0.4795\n",
            "Epoch 95/100\n",
            "32/32 [==============================] - 0s 3ms/step - loss: 0.0000e+00 - accuracy: 0.5250 - val_loss: 0.0000e+00 - val_accuracy: 0.4795\n",
            "Epoch 96/100\n",
            "32/32 [==============================] - 0s 4ms/step - loss: 0.0000e+00 - accuracy: 0.5333 - val_loss: 0.0000e+00 - val_accuracy: 0.4795\n",
            "Epoch 97/100\n",
            "32/32 [==============================] - 0s 4ms/step - loss: 0.0000e+00 - accuracy: 0.5016 - val_loss: 0.0000e+00 - val_accuracy: 0.4795\n",
            "Epoch 98/100\n",
            "32/32 [==============================] - 0s 3ms/step - loss: 0.0000e+00 - accuracy: 0.5007 - val_loss: 0.0000e+00 - val_accuracy: 0.4795\n",
            "Epoch 99/100\n",
            "32/32 [==============================] - 0s 4ms/step - loss: 0.0000e+00 - accuracy: 0.5173 - val_loss: 0.0000e+00 - val_accuracy: 0.4795\n",
            "Epoch 100/100\n",
            "32/32 [==============================] - 0s 3ms/step - loss: 0.0000e+00 - accuracy: 0.5088 - val_loss: 0.0000e+00 - val_accuracy: 0.4795\n"
          ],
          "name": "stdout"
        }
      ]
    },
    {
      "cell_type": "code",
      "metadata": {
        "colab": {
          "base_uri": "https://localhost:8080/"
        },
        "id": "YaI4IzX7ZGtG",
        "outputId": "a85d87c9-49b1-4009-ef60-bb73e3e9f98f"
      },
      "source": [
        "model.evaluate(X_test, Y_test)[1]"
      ],
      "execution_count": null,
      "outputs": [
        {
          "output_type": "stream",
          "text": [
            "7/7 [==============================] - 0s 2ms/step - loss: 0.3048 - accuracy: 0.8676\n"
          ],
          "name": "stdout"
        },
        {
          "output_type": "execute_result",
          "data": {
            "text/plain": [
              "0.8675799369812012"
            ]
          },
          "metadata": {
            "tags": []
          },
          "execution_count": 18
        }
      ]
    },
    {
      "cell_type": "markdown",
      "metadata": {
        "id": "mfJ4zT-vZO0t"
      },
      "source": [
        "**Visualizing loss and accuracy**"
      ]
    },
    {
      "cell_type": "code",
      "metadata": {
        "colab": {
          "base_uri": "https://localhost:8080/",
          "height": 295
        },
        "id": "FsR8FYWGZTFt",
        "outputId": "efcbed53-1dbf-4381-c250-8a5005e90902"
      },
      "source": [
        "plt.plot(hist.history['loss'])\n",
        "plt.plot(hist.history['val_loss'])\n",
        "plt.title('Model loss')\n",
        "plt.ylabel('Loss')\n",
        "plt.xlabel('Epoch')\n",
        "plt.legend(['Train', 'Val'], loc='upper right')\n",
        "plt.show()"
      ],
      "execution_count": null,
      "outputs": [
        {
          "output_type": "display_data",
          "data": {
            "image/png": "[encoded data removed]",
            "text/plain": [
              "<Figure size 432x288 with 1 Axes>"
            ]
          },
          "metadata": {
            "tags": [],
            "needs_background": "light"
          }
        }
      ]
    },
    {
      "cell_type": "code",
      "metadata": {
        "colab": {
          "base_uri": "https://localhost:8080/",
          "height": 295
        },
        "id": "f8NQV-f5ZX5U",
        "outputId": "a13532dc-df1b-46f1-d781-887319634710"
      },
      "source": [
        "plt.plot(hist.history['accuracy'])\n",
        "plt.plot(hist.history['val_accuracy'])\n",
        "plt.title('Model accuracy')\n",
        "plt.ylabel('Accuracy')\n",
        "plt.xlabel('Epoch')\n",
        "plt.legend(['Train', 'Val'], loc='lower right')\n",
        "plt.show()"
      ],
      "execution_count": null,
      "outputs": [
        {
          "output_type": "display_data",
          "data": {
            "image/png": "[encoded data removed]",
            "text/plain": [
              "<Figure size 432x288 with 1 Axes>"
            ]
          },
          "metadata": {
            "tags": [],
            "needs_background": "light"
          }
        }
      ]
    },
    {
      "cell_type": "markdown",
      "metadata": {
        "id": "OJRXXlTtahWW"
      },
      "source": [
        "**Adding regularization to our network**"
      ]
    },
    {
      "cell_type": "code",
      "metadata": {
        "id": "Ri3_cnwPaldT"
      },
      "source": [
        "model_2 = Sequential([\n",
        "    Dense(1000, activation='relu', input_shape=(10,)),\n",
        "    Dense(1000, activation='relu'),\n",
        "    Dense(1000, activation='relu'),\n",
        "    Dense(1000, activation='relu'),\n",
        "    Dense(1, activation='sigmoid'),\n",
        "])"
      ],
      "execution_count": null,
      "outputs": []
    },
    {
      "cell_type": "code",
      "metadata": {
        "id": "kU56FYwxaqNb"
      },
      "source": [
        "model_2.compile(optimizer='adam',\n",
        "              loss='binary_crossentropy',\n",
        "              metrics=['accuracy'])"
      ],
      "execution_count": null,
      "outputs": []
    },
    {
      "cell_type": "code",
      "metadata": {
        "colab": {
          "base_uri": "https://localhost:8080/"
        },
        "id": "5McI9Qkgasf7",
        "outputId": "ecf9150f-51fe-4c9c-e193-0d8043eab8ff"
      },
      "source": [
        "hist_2 = model_2.fit(X_train, Y_train,\n",
        "          batch_size=32, epochs=100,\n",
        "          validation_data=(X_val, Y_val))"
      ],
      "execution_count": null,
      "outputs": [
        {
          "output_type": "stream",
          "text": [
            "Epoch 1/100\n",
            "32/32 [==============================] - 0s 5ms/step - loss: 0.0314 - accuracy: 0.9863 - val_loss: 1.0823 - val_accuracy: 0.8676\n",
            "Epoch 2/100\n",
            "32/32 [==============================] - 0s 4ms/step - loss: 0.0349 - accuracy: 0.9853 - val_loss: 1.2124 - val_accuracy: 0.8447\n",
            "Epoch 3/100\n",
            "32/32 [==============================] - 0s 4ms/step - loss: 0.0247 - accuracy: 0.9892 - val_loss: 1.2673 - val_accuracy: 0.8630\n",
            "Epoch 4/100\n",
            "32/32 [==============================] - 0s 4ms/step - loss: 0.0301 - accuracy: 0.9843 - val_loss: 1.2497 - val_accuracy: 0.8539\n",
            "Epoch 5/100\n",
            "32/32 [==============================] - 0s 4ms/step - loss: 0.0295 - accuracy: 0.9883 - val_loss: 1.4077 - val_accuracy: 0.8539\n",
            "Epoch 6/100\n",
            "32/32 [==============================] - 0s 4ms/step - loss: 0.0326 - accuracy: 0.9843 - val_loss: 1.2984 - val_accuracy: 0.8676\n",
            "Epoch 7/100\n",
            "32/32 [==============================] - 0s 4ms/step - loss: 0.0414 - accuracy: 0.9814 - val_loss: 1.2223 - val_accuracy: 0.8493\n",
            "Epoch 8/100\n",
            "32/32 [==============================] - 0s 4ms/step - loss: 0.0482 - accuracy: 0.9765 - val_loss: 1.0329 - val_accuracy: 0.8721\n",
            "Epoch 9/100\n",
            "32/32 [==============================] - 0s 4ms/step - loss: 0.0744 - accuracy: 0.9726 - val_loss: 0.8127 - val_accuracy: 0.8584\n",
            "Epoch 10/100\n",
            "32/32 [==============================] - 0s 4ms/step - loss: 0.0972 - accuracy: 0.9618 - val_loss: 0.7391 - val_accuracy: 0.8493\n",
            "Epoch 11/100\n",
            "32/32 [==============================] - 0s 4ms/step - loss: 0.0773 - accuracy: 0.9658 - val_loss: 0.8266 - val_accuracy: 0.8630\n",
            "Epoch 12/100\n",
            "32/32 [==============================] - 0s 4ms/step - loss: 0.0389 - accuracy: 0.9814 - val_loss: 0.9808 - val_accuracy: 0.8721\n",
            "Epoch 13/100\n",
            "32/32 [==============================] - 0s 4ms/step - loss: 0.0327 - accuracy: 0.9873 - val_loss: 1.0514 - val_accuracy: 0.8539\n",
            "Epoch 14/100\n",
            "32/32 [==============================] - 0s 4ms/step - loss: 0.0311 - accuracy: 0.9863 - val_loss: 1.3940 - val_accuracy: 0.8539\n",
            "Epoch 15/100\n",
            "32/32 [==============================] - 0s 4ms/step - loss: 0.0294 - accuracy: 0.9863 - val_loss: 1.2866 - val_accuracy: 0.8493\n",
            "Epoch 16/100\n",
            "32/32 [==============================] - 0s 4ms/step - loss: 0.0209 - accuracy: 0.9922 - val_loss: 1.5561 - val_accuracy: 0.8493\n",
            "Epoch 17/100\n",
            "32/32 [==============================] - 0s 4ms/step - loss: 0.0362 - accuracy: 0.9834 - val_loss: 1.2415 - val_accuracy: 0.8630\n",
            "Epoch 18/100\n",
            "32/32 [==============================] - 0s 4ms/step - loss: 0.0564 - accuracy: 0.9814 - val_loss: 1.1653 - val_accuracy: 0.8493\n",
            "Epoch 19/100\n",
            "32/32 [==============================] - 0s 4ms/step - loss: 0.0370 - accuracy: 0.9843 - val_loss: 1.0185 - val_accuracy: 0.8539\n",
            "Epoch 20/100\n",
            "32/32 [==============================] - 0s 4ms/step - loss: 0.0371 - accuracy: 0.9873 - val_loss: 1.0762 - val_accuracy: 0.8539\n",
            "Epoch 21/100\n",
            "32/32 [==============================] - 0s 4ms/step - loss: 0.0332 - accuracy: 0.9883 - val_loss: 1.1057 - val_accuracy: 0.8493\n",
            "Epoch 22/100\n",
            "32/32 [==============================] - 0s 4ms/step - loss: 0.0302 - accuracy: 0.9892 - val_loss: 1.3046 - val_accuracy: 0.8584\n",
            "Epoch 23/100\n",
            "32/32 [==============================] - 0s 4ms/step - loss: 0.0324 - accuracy: 0.9892 - val_loss: 1.2090 - val_accuracy: 0.8493\n",
            "Epoch 24/100\n",
            "32/32 [==============================] - 0s 4ms/step - loss: 0.0327 - accuracy: 0.9843 - val_loss: 1.1557 - val_accuracy: 0.8493\n",
            "Epoch 25/100\n",
            "32/32 [==============================] - 0s 4ms/step - loss: 0.0314 - accuracy: 0.9902 - val_loss: 1.2193 - val_accuracy: 0.8493\n",
            "Epoch 26/100\n",
            "32/32 [==============================] - 0s 4ms/step - loss: 0.0349 - accuracy: 0.9824 - val_loss: 1.2247 - val_accuracy: 0.8630\n",
            "Epoch 27/100\n",
            "32/32 [==============================] - 0s 4ms/step - loss: 0.0419 - accuracy: 0.9804 - val_loss: 1.4149 - val_accuracy: 0.8630\n",
            "Epoch 28/100\n",
            "32/32 [==============================] - 0s 4ms/step - loss: 0.0572 - accuracy: 0.9814 - val_loss: 1.0598 - val_accuracy: 0.8721\n",
            "Epoch 29/100\n",
            "32/32 [==============================] - 0s 4ms/step - loss: 0.0442 - accuracy: 0.9883 - val_loss: 1.1439 - val_accuracy: 0.8858\n",
            "Epoch 30/100\n",
            "32/32 [==============================] - 0s 4ms/step - loss: 0.0736 - accuracy: 0.9746 - val_loss: 0.8572 - val_accuracy: 0.8676\n",
            "Epoch 31/100\n",
            "32/32 [==============================] - 0s 4ms/step - loss: 0.0488 - accuracy: 0.9785 - val_loss: 0.8980 - val_accuracy: 0.8539\n",
            "Epoch 32/100\n",
            "32/32 [==============================] - 0s 4ms/step - loss: 0.0291 - accuracy: 0.9892 - val_loss: 1.0442 - val_accuracy: 0.8584\n",
            "Epoch 33/100\n",
            "32/32 [==============================] - 0s 4ms/step - loss: 0.0282 - accuracy: 0.9883 - val_loss: 1.2799 - val_accuracy: 0.8584\n",
            "Epoch 34/100\n",
            "32/32 [==============================] - 0s 4ms/step - loss: 0.0397 - accuracy: 0.9843 - val_loss: 1.4944 - val_accuracy: 0.8356\n",
            "Epoch 35/100\n",
            "32/32 [==============================] - 0s 4ms/step - loss: 0.1120 - accuracy: 0.9706 - val_loss: 0.8847 - val_accuracy: 0.8493\n",
            "Epoch 36/100\n",
            "32/32 [==============================] - 0s 4ms/step - loss: 0.1537 - accuracy: 0.9530 - val_loss: 0.4497 - val_accuracy: 0.8721\n",
            "Epoch 37/100\n",
            "32/32 [==============================] - 0s 4ms/step - loss: 0.0668 - accuracy: 0.9795 - val_loss: 0.6250 - val_accuracy: 0.8676\n",
            "Epoch 38/100\n",
            "32/32 [==============================] - 0s 4ms/step - loss: 0.0387 - accuracy: 0.9863 - val_loss: 0.9000 - val_accuracy: 0.8493\n",
            "Epoch 39/100\n",
            "32/32 [==============================] - 0s 4ms/step - loss: 0.0363 - accuracy: 0.9883 - val_loss: 0.9363 - val_accuracy: 0.8539\n",
            "Epoch 40/100\n",
            "32/32 [==============================] - 0s 4ms/step - loss: 0.0279 - accuracy: 0.9853 - val_loss: 1.1654 - val_accuracy: 0.8539\n",
            "Epoch 41/100\n",
            "32/32 [==============================] - 0s 4ms/step - loss: 0.0313 - accuracy: 0.9883 - val_loss: 0.9632 - val_accuracy: 0.8447\n",
            "Epoch 42/100\n",
            "32/32 [==============================] - 0s 4ms/step - loss: 0.0544 - accuracy: 0.9863 - val_loss: 0.8985 - val_accuracy: 0.8584\n",
            "Epoch 43/100\n",
            "32/32 [==============================] - 0s 4ms/step - loss: 0.0336 - accuracy: 0.9843 - val_loss: 1.2672 - val_accuracy: 0.8402\n",
            "Epoch 44/100\n",
            "32/32 [==============================] - 0s 4ms/step - loss: 0.0538 - accuracy: 0.9795 - val_loss: 0.8351 - val_accuracy: 0.8493\n",
            "Epoch 45/100\n",
            "32/32 [==============================] - 0s 4ms/step - loss: 0.0279 - accuracy: 0.9892 - val_loss: 1.0807 - val_accuracy: 0.8539\n",
            "Epoch 46/100\n",
            "32/32 [==============================] - 0s 4ms/step - loss: 0.0777 - accuracy: 0.9726 - val_loss: 0.6634 - val_accuracy: 0.8630\n",
            "Epoch 47/100\n",
            "32/32 [==============================] - 0s 4ms/step - loss: 0.0655 - accuracy: 0.9736 - val_loss: 0.6755 - val_accuracy: 0.8402\n",
            "Epoch 48/100\n",
            "32/32 [==============================] - 0s 4ms/step - loss: 0.0406 - accuracy: 0.9853 - val_loss: 0.8430 - val_accuracy: 0.8676\n",
            "Epoch 49/100\n",
            "32/32 [==============================] - 0s 4ms/step - loss: 0.0301 - accuracy: 0.9853 - val_loss: 0.9149 - val_accuracy: 0.8630\n",
            "Epoch 50/100\n",
            "32/32 [==============================] - 0s 4ms/step - loss: 0.0319 - accuracy: 0.9873 - val_loss: 0.9042 - val_accuracy: 0.8356\n",
            "Epoch 51/100\n",
            "32/32 [==============================] - 0s 4ms/step - loss: 0.0242 - accuracy: 0.9883 - val_loss: 1.0618 - val_accuracy: 0.8447\n",
            "Epoch 52/100\n",
            "32/32 [==============================] - 0s 4ms/step - loss: 0.0298 - accuracy: 0.9834 - val_loss: 0.9791 - val_accuracy: 0.8447\n",
            "Epoch 53/100\n",
            "32/32 [==============================] - 0s 4ms/step - loss: 0.0322 - accuracy: 0.9853 - val_loss: 1.0069 - val_accuracy: 0.8356\n",
            "Epoch 54/100\n",
            "32/32 [==============================] - 0s 4ms/step - loss: 0.0286 - accuracy: 0.9912 - val_loss: 1.1733 - val_accuracy: 0.8493\n",
            "Epoch 55/100\n",
            "32/32 [==============================] - 0s 4ms/step - loss: 0.0409 - accuracy: 0.9843 - val_loss: 1.0063 - val_accuracy: 0.8539\n",
            "Epoch 56/100\n",
            "32/32 [==============================] - 0s 4ms/step - loss: 0.0543 - accuracy: 0.9785 - val_loss: 0.7666 - val_accuracy: 0.8584\n",
            "Epoch 57/100\n",
            "32/32 [==============================] - 0s 4ms/step - loss: 0.0387 - accuracy: 0.9853 - val_loss: 0.9507 - val_accuracy: 0.8493\n",
            "Epoch 58/100\n",
            "32/32 [==============================] - 0s 4ms/step - loss: 0.0513 - accuracy: 0.9775 - val_loss: 0.8458 - val_accuracy: 0.8402\n",
            "Epoch 59/100\n",
            "32/32 [==============================] - 0s 4ms/step - loss: 0.0301 - accuracy: 0.9873 - val_loss: 1.0084 - val_accuracy: 0.8493\n",
            "Epoch 60/100\n",
            "32/32 [==============================] - 0s 4ms/step - loss: 0.0237 - accuracy: 0.9873 - val_loss: 1.2502 - val_accuracy: 0.8584\n",
            "Epoch 61/100\n",
            "32/32 [==============================] - 0s 4ms/step - loss: 0.0316 - accuracy: 0.9863 - val_loss: 1.1296 - val_accuracy: 0.8493\n",
            "Epoch 62/100\n",
            "32/32 [==============================] - 0s 4ms/step - loss: 0.0548 - accuracy: 0.9785 - val_loss: 0.8116 - val_accuracy: 0.8402\n",
            "Epoch 63/100\n",
            "32/32 [==============================] - 0s 4ms/step - loss: 0.0358 - accuracy: 0.9834 - val_loss: 0.8964 - val_accuracy: 0.8402\n",
            "Epoch 64/100\n",
            "32/32 [==============================] - 0s 4ms/step - loss: 0.0271 - accuracy: 0.9863 - val_loss: 1.0794 - val_accuracy: 0.8493\n",
            "Epoch 65/100\n",
            "32/32 [==============================] - 0s 4ms/step - loss: 0.0254 - accuracy: 0.9883 - val_loss: 1.0265 - val_accuracy: 0.8584\n",
            "Epoch 66/100\n",
            "32/32 [==============================] - 0s 4ms/step - loss: 0.0317 - accuracy: 0.9843 - val_loss: 1.0505 - val_accuracy: 0.8493\n",
            "Epoch 67/100\n",
            "32/32 [==============================] - 0s 4ms/step - loss: 0.0408 - accuracy: 0.9843 - val_loss: 0.9924 - val_accuracy: 0.8676\n",
            "Epoch 68/100\n",
            "32/32 [==============================] - 0s 4ms/step - loss: 0.0315 - accuracy: 0.9883 - val_loss: 1.2193 - val_accuracy: 0.8493\n",
            "Epoch 69/100\n",
            "32/32 [==============================] - 0s 4ms/step - loss: 0.0181 - accuracy: 0.9922 - val_loss: 1.2835 - val_accuracy: 0.8493\n",
            "Epoch 70/100\n",
            "32/32 [==============================] - 0s 4ms/step - loss: 0.0248 - accuracy: 0.9883 - val_loss: 1.2812 - val_accuracy: 0.8447\n",
            "Epoch 71/100\n",
            "32/32 [==============================] - 0s 4ms/step - loss: 0.0761 - accuracy: 0.9775 - val_loss: 0.8665 - val_accuracy: 0.8493\n",
            "Epoch 72/100\n",
            "32/32 [==============================] - 0s 4ms/step - loss: 0.0852 - accuracy: 0.9726 - val_loss: 0.6094 - val_accuracy: 0.8493\n",
            "Epoch 73/100\n",
            "32/32 [==============================] - 0s 4ms/step - loss: 0.0597 - accuracy: 0.9746 - val_loss: 0.7543 - val_accuracy: 0.8539\n",
            "Epoch 74/100\n",
            "32/32 [==============================] - 0s 4ms/step - loss: 0.0684 - accuracy: 0.9814 - val_loss: 0.9051 - val_accuracy: 0.8447\n",
            "Epoch 75/100\n",
            "32/32 [==============================] - 0s 4ms/step - loss: 0.0871 - accuracy: 0.9628 - val_loss: 0.6213 - val_accuracy: 0.8630\n",
            "Epoch 76/100\n",
            "32/32 [==============================] - 0s 4ms/step - loss: 0.0440 - accuracy: 0.9853 - val_loss: 0.8832 - val_accuracy: 0.8584\n",
            "Epoch 77/100\n",
            "32/32 [==============================] - 0s 4ms/step - loss: 0.0661 - accuracy: 0.9785 - val_loss: 0.8649 - val_accuracy: 0.8493\n",
            "Epoch 78/100\n",
            "32/32 [==============================] - 0s 4ms/step - loss: 0.0369 - accuracy: 0.9843 - val_loss: 0.8475 - val_accuracy: 0.8402\n",
            "Epoch 79/100\n",
            "32/32 [==============================] - 0s 4ms/step - loss: 0.0275 - accuracy: 0.9892 - val_loss: 0.9323 - val_accuracy: 0.8493\n",
            "Epoch 80/100\n",
            "32/32 [==============================] - 0s 4ms/step - loss: 0.0252 - accuracy: 0.9873 - val_loss: 1.0402 - val_accuracy: 0.8447\n",
            "Epoch 81/100\n",
            "32/32 [==============================] - 0s 4ms/step - loss: 0.0299 - accuracy: 0.9863 - val_loss: 1.0119 - val_accuracy: 0.8493\n",
            "Epoch 82/100\n",
            "32/32 [==============================] - 0s 4ms/step - loss: 0.0580 - accuracy: 0.9746 - val_loss: 0.8321 - val_accuracy: 0.8630\n",
            "Epoch 83/100\n",
            "32/32 [==============================] - 0s 4ms/step - loss: 0.0503 - accuracy: 0.9795 - val_loss: 0.9938 - val_accuracy: 0.8539\n",
            "Epoch 84/100\n",
            "32/32 [==============================] - 0s 4ms/step - loss: 0.0268 - accuracy: 0.9892 - val_loss: 1.1659 - val_accuracy: 0.8539\n",
            "Epoch 85/100\n",
            "32/32 [==============================] - 0s 4ms/step - loss: 0.0288 - accuracy: 0.9853 - val_loss: 1.3350 - val_accuracy: 0.8539\n",
            "Epoch 86/100\n",
            "32/32 [==============================] - 0s 4ms/step - loss: 0.0221 - accuracy: 0.9912 - val_loss: 1.3904 - val_accuracy: 0.8311\n",
            "Epoch 87/100\n",
            "32/32 [==============================] - 0s 4ms/step - loss: 0.0340 - accuracy: 0.9853 - val_loss: 1.2011 - val_accuracy: 0.8539\n",
            "Epoch 88/100\n",
            "32/32 [==============================] - 0s 4ms/step - loss: 0.0328 - accuracy: 0.9863 - val_loss: 1.3452 - val_accuracy: 0.8584\n",
            "Epoch 89/100\n",
            "32/32 [==============================] - 0s 4ms/step - loss: 0.0290 - accuracy: 0.9863 - val_loss: 1.2608 - val_accuracy: 0.8630\n",
            "Epoch 90/100\n",
            "32/32 [==============================] - 0s 4ms/step - loss: 0.0260 - accuracy: 0.9892 - val_loss: 1.3202 - val_accuracy: 0.8493\n",
            "Epoch 91/100\n",
            "32/32 [==============================] - 0s 4ms/step - loss: 0.0226 - accuracy: 0.9912 - val_loss: 1.4316 - val_accuracy: 0.8493\n",
            "Epoch 92/100\n",
            "32/32 [==============================] - 0s 4ms/step - loss: 0.0252 - accuracy: 0.9892 - val_loss: 1.4344 - val_accuracy: 0.8447\n",
            "Epoch 93/100\n",
            "32/32 [==============================] - 0s 4ms/step - loss: 0.0170 - accuracy: 0.9932 - val_loss: 1.3915 - val_accuracy: 0.8447\n",
            "Epoch 94/100\n",
            "32/32 [==============================] - 0s 4ms/step - loss: 0.0162 - accuracy: 0.9902 - val_loss: 1.6801 - val_accuracy: 0.8356\n",
            "Epoch 95/100\n",
            "32/32 [==============================] - 0s 4ms/step - loss: 0.0165 - accuracy: 0.9902 - val_loss: 1.6981 - val_accuracy: 0.8493\n",
            "Epoch 96/100\n",
            "32/32 [==============================] - 0s 4ms/step - loss: 0.0194 - accuracy: 0.9902 - val_loss: 1.6236 - val_accuracy: 0.8356\n",
            "Epoch 97/100\n",
            "32/32 [==============================] - 0s 8ms/step - loss: 0.0709 - accuracy: 0.9775 - val_loss: 1.1041 - val_accuracy: 0.8539\n",
            "Epoch 98/100\n",
            "32/32 [==============================] - 0s 4ms/step - loss: 0.0622 - accuracy: 0.9726 - val_loss: 0.8248 - val_accuracy: 0.8584\n",
            "Epoch 99/100\n",
            "32/32 [==============================] - 0s 4ms/step - loss: 0.0503 - accuracy: 0.9804 - val_loss: 0.8726 - val_accuracy: 0.8311\n",
            "Epoch 100/100\n",
            "32/32 [==============================] - 0s 4ms/step - loss: 0.0545 - accuracy: 0.9834 - val_loss: 0.7538 - val_accuracy: 0.8539\n"
          ],
          "name": "stdout"
        }
      ]
    },
    {
      "cell_type": "code",
      "metadata": {
        "colab": {
          "base_uri": "https://localhost:8080/",
          "height": 295
        },
        "id": "ssr1vElga8Rk",
        "outputId": "97ec3655-5148-4fc9-a80d-d1610dfb633d"
      },
      "source": [
        "plt.plot(hist_2.history['loss'])\n",
        "plt.plot(hist_2.history['val_loss'])\n",
        "plt.title('Model loss')\n",
        "plt.ylabel('Loss')\n",
        "plt.xlabel('Epoch')\n",
        "plt.legend(['Train', 'Val'], loc='upper right')\n",
        "plt.show()"
      ],
      "execution_count": null,
      "outputs": [
        {
          "output_type": "display_data",
          "data": {
            "image/png": "[encoded data removed]",
            "text/plain": [
              "<Figure size 432x288 with 1 Axes>"
            ]
          },
          "metadata": {
            "tags": [],
            "needs_background": "light"
          }
        }
      ]
    },
    {
      "cell_type": "code",
      "metadata": {
        "colab": {
          "base_uri": "https://localhost:8080/",
          "height": 295
        },
        "id": "86mWAyeobA8K",
        "outputId": "1da9bc1d-2352-4887-fcaa-2e5d02758c50"
      },
      "source": [
        "plt.plot(hist_2.history['accuracy'])\n",
        "plt.plot(hist_2.history['val_accuracy'])\n",
        "plt.title('Model accuracy')\n",
        "plt.ylabel('Accuracy')\n",
        "plt.xlabel('Epoch')\n",
        "plt.legend(['Train', 'Val'], loc='lower right')\n",
        "plt.show()"
      ],
      "execution_count": null,
      "outputs": [
        {
          "output_type": "display_data",
          "data": {
            "image/png": "[encoded data removed]",
            "text/plain": [
              "<Figure size 432x288 with 1 Axes>"
            ]
          },
          "metadata": {
            "tags": [],
            "needs_background": "light"
          }
        }
      ]
    },
    {
      "cell_type": "code",
      "metadata": {
        "id": "g66ROZ-IbHuI"
      },
      "source": [
        "model_3 = Sequential([\n",
        "    Dense(1000, activation='relu', kernel_regularizer=regularizers.l2(0.01), input_shape=(10,)),\n",
        "    Dropout(0.3),\n",
        "    Dense(1000, activation='relu', kernel_regularizer=regularizers.l2(0.01)),\n",
        "    Dropout(0.3),\n",
        "    Dense(1000, activation='relu', kernel_regularizer=regularizers.l2(0.01)),\n",
        "    Dropout(0.3),\n",
        "    Dense(1000, activation='relu', kernel_regularizer=regularizers.l2(0.01)),\n",
        "    Dropout(0.3),\n",
        "    Dense(1, activation='sigmoid', kernel_regularizer=regularizers.l2(0.01)),\n",
        "])"
      ],
      "execution_count": null,
      "outputs": []
    },
    {
      "cell_type": "code",
      "metadata": {
        "id": "RFj5-8d5bKoS"
      },
      "source": [
        "model_3.compile(optimizer='adam',\n",
        "              loss='binary_crossentropy',\n",
        "              metrics=['accuracy'])"
      ],
      "execution_count": null,
      "outputs": []
    },
    {
      "cell_type": "code",
      "metadata": {
        "colab": {
          "base_uri": "https://localhost:8080/"
        },
        "id": "Ggypu7djbM0C",
        "outputId": "fd85cc64-55f4-4051-9cae-f32c66410c4e"
      },
      "source": [
        "hist_3 = model_3.fit(X_train, Y_train,\n",
        "          batch_size=32, epochs=100,\n",
        "          validation_data=(X_val, Y_val))"
      ],
      "execution_count": null,
      "outputs": [
        {
          "output_type": "stream",
          "text": [
            "Epoch 1/100\n",
            "32/32 [==============================] - 1s 10ms/step - loss: 21.0790 - accuracy: 0.5512 - val_loss: 3.8606 - val_accuracy: 0.8037\n",
            "Epoch 2/100\n",
            "32/32 [==============================] - 0s 5ms/step - loss: 2.4457 - accuracy: 0.8468 - val_loss: 0.6638 - val_accuracy: 0.8630\n",
            "Epoch 3/100\n",
            "32/32 [==============================] - 0s 5ms/step - loss: 0.5912 - accuracy: 0.8771 - val_loss: 0.5236 - val_accuracy: 0.8539\n",
            "Epoch 4/100\n",
            "32/32 [==============================] - 0s 5ms/step - loss: 0.5096 - accuracy: 0.8804 - val_loss: 0.5107 - val_accuracy: 0.8493\n",
            "Epoch 5/100\n",
            "32/32 [==============================] - 0s 5ms/step - loss: 0.5024 - accuracy: 0.8669 - val_loss: 0.5257 - val_accuracy: 0.8493\n",
            "Epoch 6/100\n",
            "32/32 [==============================] - 0s 5ms/step - loss: 0.4680 - accuracy: 0.8798 - val_loss: 0.4932 - val_accuracy: 0.8539\n",
            "Epoch 7/100\n",
            "32/32 [==============================] - 0s 5ms/step - loss: 0.4911 - accuracy: 0.8773 - val_loss: 0.4720 - val_accuracy: 0.8721\n",
            "Epoch 8/100\n",
            "32/32 [==============================] - 0s 5ms/step - loss: 0.4628 - accuracy: 0.8800 - val_loss: 0.5385 - val_accuracy: 0.8402\n",
            "Epoch 9/100\n",
            "32/32 [==============================] - 0s 4ms/step - loss: 0.4635 - accuracy: 0.8917 - val_loss: 0.4711 - val_accuracy: 0.8813\n",
            "Epoch 10/100\n",
            "32/32 [==============================] - 0s 4ms/step - loss: 0.4370 - accuracy: 0.8905 - val_loss: 0.4772 - val_accuracy: 0.8813\n",
            "Epoch 11/100\n",
            "32/32 [==============================] - 0s 4ms/step - loss: 0.4695 - accuracy: 0.8749 - val_loss: 0.4833 - val_accuracy: 0.8584\n",
            "Epoch 12/100\n",
            "32/32 [==============================] - 0s 5ms/step - loss: 0.4434 - accuracy: 0.8821 - val_loss: 0.5420 - val_accuracy: 0.8174\n",
            "Epoch 13/100\n",
            "32/32 [==============================] - 0s 4ms/step - loss: 0.4896 - accuracy: 0.8606 - val_loss: 0.4585 - val_accuracy: 0.8676\n",
            "Epoch 14/100\n",
            "32/32 [==============================] - 0s 5ms/step - loss: 0.4500 - accuracy: 0.8862 - val_loss: 0.4522 - val_accuracy: 0.8858\n",
            "Epoch 15/100\n",
            "32/32 [==============================] - 0s 5ms/step - loss: 0.4470 - accuracy: 0.8920 - val_loss: 0.4558 - val_accuracy: 0.8721\n",
            "Epoch 16/100\n",
            "32/32 [==============================] - 0s 5ms/step - loss: 0.4418 - accuracy: 0.8830 - val_loss: 0.5298 - val_accuracy: 0.8265\n",
            "Epoch 17/100\n",
            "32/32 [==============================] - 0s 5ms/step - loss: 0.4371 - accuracy: 0.8781 - val_loss: 0.4547 - val_accuracy: 0.8813\n",
            "Epoch 18/100\n",
            "32/32 [==============================] - 0s 5ms/step - loss: 0.4248 - accuracy: 0.9117 - val_loss: 0.4590 - val_accuracy: 0.8813\n",
            "Epoch 19/100\n",
            "32/32 [==============================] - 0s 5ms/step - loss: 0.4383 - accuracy: 0.8883 - val_loss: 0.4538 - val_accuracy: 0.8721\n",
            "Epoch 20/100\n",
            "32/32 [==============================] - 0s 5ms/step - loss: 0.4161 - accuracy: 0.8993 - val_loss: 0.5105 - val_accuracy: 0.8174\n",
            "Epoch 21/100\n",
            "32/32 [==============================] - 0s 5ms/step - loss: 0.4458 - accuracy: 0.8810 - val_loss: 0.4884 - val_accuracy: 0.8584\n",
            "Epoch 22/100\n",
            "32/32 [==============================] - 0s 5ms/step - loss: 0.4436 - accuracy: 0.8929 - val_loss: 0.4484 - val_accuracy: 0.8721\n",
            "Epoch 23/100\n",
            "32/32 [==============================] - 0s 5ms/step - loss: 0.4114 - accuracy: 0.9018 - val_loss: 0.4482 - val_accuracy: 0.8858\n",
            "Epoch 24/100\n",
            "32/32 [==============================] - 0s 4ms/step - loss: 0.4364 - accuracy: 0.8836 - val_loss: 0.4523 - val_accuracy: 0.8813\n",
            "Epoch 25/100\n",
            "32/32 [==============================] - 0s 5ms/step - loss: 0.4370 - accuracy: 0.8956 - val_loss: 0.4964 - val_accuracy: 0.8539\n",
            "Epoch 26/100\n",
            "32/32 [==============================] - 0s 5ms/step - loss: 0.4370 - accuracy: 0.8715 - val_loss: 0.4606 - val_accuracy: 0.8767\n",
            "Epoch 27/100\n",
            "32/32 [==============================] - 0s 5ms/step - loss: 0.4275 - accuracy: 0.8936 - val_loss: 0.4450 - val_accuracy: 0.8676\n",
            "Epoch 28/100\n",
            "32/32 [==============================] - 0s 5ms/step - loss: 0.4173 - accuracy: 0.9046 - val_loss: 0.4626 - val_accuracy: 0.8813\n",
            "Epoch 29/100\n",
            "32/32 [==============================] - 0s 5ms/step - loss: 0.4271 - accuracy: 0.8958 - val_loss: 0.4710 - val_accuracy: 0.8539\n",
            "Epoch 30/100\n",
            "32/32 [==============================] - 0s 5ms/step - loss: 0.4097 - accuracy: 0.9056 - val_loss: 0.4818 - val_accuracy: 0.8630\n",
            "Epoch 31/100\n",
            "32/32 [==============================] - 0s 4ms/step - loss: 0.4451 - accuracy: 0.8791 - val_loss: 0.4857 - val_accuracy: 0.8493\n",
            "Epoch 32/100\n",
            "32/32 [==============================] - 0s 5ms/step - loss: 0.4250 - accuracy: 0.9013 - val_loss: 0.4718 - val_accuracy: 0.8813\n",
            "Epoch 33/100\n",
            "32/32 [==============================] - 0s 5ms/step - loss: 0.4964 - accuracy: 0.8639 - val_loss: 0.4655 - val_accuracy: 0.8813\n",
            "Epoch 34/100\n",
            "32/32 [==============================] - 0s 5ms/step - loss: 0.4380 - accuracy: 0.8805 - val_loss: 0.4674 - val_accuracy: 0.8904\n",
            "Epoch 35/100\n",
            "32/32 [==============================] - 0s 5ms/step - loss: 0.4371 - accuracy: 0.8929 - val_loss: 0.4531 - val_accuracy: 0.8813\n",
            "Epoch 36/100\n",
            "32/32 [==============================] - 0s 5ms/step - loss: 0.4210 - accuracy: 0.8912 - val_loss: 0.4666 - val_accuracy: 0.8767\n",
            "Epoch 37/100\n",
            "32/32 [==============================] - 0s 5ms/step - loss: 0.4619 - accuracy: 0.8769 - val_loss: 0.4748 - val_accuracy: 0.8721\n",
            "Epoch 38/100\n",
            "32/32 [==============================] - 0s 5ms/step - loss: 0.4353 - accuracy: 0.8847 - val_loss: 0.4560 - val_accuracy: 0.8767\n",
            "Epoch 39/100\n",
            "32/32 [==============================] - 0s 5ms/step - loss: 0.4357 - accuracy: 0.8950 - val_loss: 0.4571 - val_accuracy: 0.8813\n",
            "Epoch 40/100\n",
            "32/32 [==============================] - 0s 5ms/step - loss: 0.4678 - accuracy: 0.8748 - val_loss: 0.4463 - val_accuracy: 0.8721\n",
            "Epoch 41/100\n",
            "32/32 [==============================] - 0s 5ms/step - loss: 0.4521 - accuracy: 0.8867 - val_loss: 0.4526 - val_accuracy: 0.8813\n",
            "Epoch 42/100\n",
            "32/32 [==============================] - 0s 5ms/step - loss: 0.4299 - accuracy: 0.8927 - val_loss: 0.4410 - val_accuracy: 0.8813\n",
            "Epoch 43/100\n",
            "32/32 [==============================] - 0s 5ms/step - loss: 0.4216 - accuracy: 0.8953 - val_loss: 0.4742 - val_accuracy: 0.8493\n",
            "Epoch 44/100\n",
            "32/32 [==============================] - 0s 5ms/step - loss: 0.4448 - accuracy: 0.8868 - val_loss: 0.4680 - val_accuracy: 0.8904\n",
            "Epoch 45/100\n",
            "32/32 [==============================] - 0s 5ms/step - loss: 0.4052 - accuracy: 0.9016 - val_loss: 0.4428 - val_accuracy: 0.8721\n",
            "Epoch 46/100\n",
            "32/32 [==============================] - 0s 5ms/step - loss: 0.4270 - accuracy: 0.8812 - val_loss: 0.4494 - val_accuracy: 0.8813\n",
            "Epoch 47/100\n",
            "32/32 [==============================] - 0s 5ms/step - loss: 0.4474 - accuracy: 0.8904 - val_loss: 0.4530 - val_accuracy: 0.8813\n",
            "Epoch 48/100\n",
            "32/32 [==============================] - 0s 5ms/step - loss: 0.3896 - accuracy: 0.9068 - val_loss: 0.4787 - val_accuracy: 0.8447\n",
            "Epoch 49/100\n",
            "32/32 [==============================] - 0s 5ms/step - loss: 0.4579 - accuracy: 0.8691 - val_loss: 0.4516 - val_accuracy: 0.8813\n",
            "Epoch 50/100\n",
            "32/32 [==============================] - 0s 5ms/step - loss: 0.4413 - accuracy: 0.8770 - val_loss: 0.4496 - val_accuracy: 0.8721\n",
            "Epoch 51/100\n",
            "32/32 [==============================] - 0s 5ms/step - loss: 0.4419 - accuracy: 0.8726 - val_loss: 0.4477 - val_accuracy: 0.8721\n",
            "Epoch 52/100\n",
            "32/32 [==============================] - 0s 5ms/step - loss: 0.4452 - accuracy: 0.8717 - val_loss: 0.4765 - val_accuracy: 0.8539\n",
            "Epoch 53/100\n",
            "32/32 [==============================] - 0s 4ms/step - loss: 0.4389 - accuracy: 0.8920 - val_loss: 0.4493 - val_accuracy: 0.8813\n",
            "Epoch 54/100\n",
            "32/32 [==============================] - 0s 5ms/step - loss: 0.4312 - accuracy: 0.8844 - val_loss: 0.4562 - val_accuracy: 0.8767\n",
            "Epoch 55/100\n",
            "32/32 [==============================] - 0s 5ms/step - loss: 0.4043 - accuracy: 0.9056 - val_loss: 0.4537 - val_accuracy: 0.8813\n",
            "Epoch 56/100\n",
            "32/32 [==============================] - 0s 5ms/step - loss: 0.4306 - accuracy: 0.8940 - val_loss: 0.4606 - val_accuracy: 0.8676\n",
            "Epoch 57/100\n",
            "32/32 [==============================] - 0s 5ms/step - loss: 0.4453 - accuracy: 0.8833 - val_loss: 0.4464 - val_accuracy: 0.8813\n",
            "Epoch 58/100\n",
            "32/32 [==============================] - 0s 5ms/step - loss: 0.4143 - accuracy: 0.8944 - val_loss: 0.4384 - val_accuracy: 0.8767\n",
            "Epoch 59/100\n",
            "32/32 [==============================] - 0s 5ms/step - loss: 0.4254 - accuracy: 0.8847 - val_loss: 0.4405 - val_accuracy: 0.8813\n",
            "Epoch 60/100\n",
            "32/32 [==============================] - 0s 5ms/step - loss: 0.4173 - accuracy: 0.8998 - val_loss: 0.4473 - val_accuracy: 0.8767\n",
            "Epoch 61/100\n",
            "32/32 [==============================] - 0s 5ms/step - loss: 0.4222 - accuracy: 0.8840 - val_loss: 0.4731 - val_accuracy: 0.8447\n",
            "Epoch 62/100\n",
            "32/32 [==============================] - 0s 5ms/step - loss: 0.4496 - accuracy: 0.8881 - val_loss: 0.5051 - val_accuracy: 0.8402\n",
            "Epoch 63/100\n",
            "32/32 [==============================] - 0s 5ms/step - loss: 0.4425 - accuracy: 0.8697 - val_loss: 0.4796 - val_accuracy: 0.8721\n",
            "Epoch 64/100\n",
            "32/32 [==============================] - 0s 5ms/step - loss: 0.4135 - accuracy: 0.8946 - val_loss: 0.4575 - val_accuracy: 0.8721\n",
            "Epoch 65/100\n",
            "32/32 [==============================] - 0s 5ms/step - loss: 0.4218 - accuracy: 0.9006 - val_loss: 0.4447 - val_accuracy: 0.8813\n",
            "Epoch 66/100\n",
            "32/32 [==============================] - 0s 5ms/step - loss: 0.4173 - accuracy: 0.8772 - val_loss: 0.4948 - val_accuracy: 0.8539\n",
            "Epoch 67/100\n",
            "32/32 [==============================] - 0s 5ms/step - loss: 0.3932 - accuracy: 0.9012 - val_loss: 0.4850 - val_accuracy: 0.8676\n",
            "Epoch 68/100\n",
            "32/32 [==============================] - 0s 4ms/step - loss: 0.4416 - accuracy: 0.8909 - val_loss: 0.4477 - val_accuracy: 0.8858\n",
            "Epoch 69/100\n",
            "32/32 [==============================] - 0s 4ms/step - loss: 0.4208 - accuracy: 0.9010 - val_loss: 0.4406 - val_accuracy: 0.8767\n",
            "Epoch 70/100\n",
            "32/32 [==============================] - 0s 4ms/step - loss: 0.4076 - accuracy: 0.8973 - val_loss: 0.4523 - val_accuracy: 0.8813\n",
            "Epoch 71/100\n",
            "32/32 [==============================] - 0s 5ms/step - loss: 0.4054 - accuracy: 0.8962 - val_loss: 0.4505 - val_accuracy: 0.8721\n",
            "Epoch 72/100\n",
            "32/32 [==============================] - 0s 5ms/step - loss: 0.4479 - accuracy: 0.8755 - val_loss: 0.4681 - val_accuracy: 0.8858\n",
            "Epoch 73/100\n",
            "32/32 [==============================] - 0s 5ms/step - loss: 0.4296 - accuracy: 0.8986 - val_loss: 0.4495 - val_accuracy: 0.8676\n",
            "Epoch 74/100\n",
            "32/32 [==============================] - 0s 5ms/step - loss: 0.3961 - accuracy: 0.9008 - val_loss: 0.4450 - val_accuracy: 0.8767\n",
            "Epoch 75/100\n",
            "32/32 [==============================] - 0s 5ms/step - loss: 0.4055 - accuracy: 0.9011 - val_loss: 0.4427 - val_accuracy: 0.8767\n",
            "Epoch 76/100\n",
            "32/32 [==============================] - 0s 5ms/step - loss: 0.4269 - accuracy: 0.8842 - val_loss: 0.4501 - val_accuracy: 0.8767\n",
            "Epoch 77/100\n",
            "32/32 [==============================] - 0s 5ms/step - loss: 0.4184 - accuracy: 0.9001 - val_loss: 0.4509 - val_accuracy: 0.8767\n",
            "Epoch 78/100\n",
            "32/32 [==============================] - 0s 5ms/step - loss: 0.4484 - accuracy: 0.8891 - val_loss: 0.4663 - val_accuracy: 0.8904\n",
            "Epoch 79/100\n",
            "32/32 [==============================] - 0s 5ms/step - loss: 0.4483 - accuracy: 0.8887 - val_loss: 0.5213 - val_accuracy: 0.8402\n",
            "Epoch 80/100\n",
            "32/32 [==============================] - 0s 5ms/step - loss: 0.4590 - accuracy: 0.8777 - val_loss: 0.4472 - val_accuracy: 0.8767\n",
            "Epoch 81/100\n",
            "32/32 [==============================] - 0s 4ms/step - loss: 0.4265 - accuracy: 0.8822 - val_loss: 0.4487 - val_accuracy: 0.8813\n",
            "Epoch 82/100\n",
            "32/32 [==============================] - 0s 5ms/step - loss: 0.4730 - accuracy: 0.8763 - val_loss: 0.4535 - val_accuracy: 0.8813\n",
            "Epoch 83/100\n",
            "32/32 [==============================] - 0s 5ms/step - loss: 0.4406 - accuracy: 0.8822 - val_loss: 0.4868 - val_accuracy: 0.8676\n",
            "Epoch 84/100\n",
            "32/32 [==============================] - 0s 5ms/step - loss: 0.4415 - accuracy: 0.8913 - val_loss: 0.4480 - val_accuracy: 0.8767\n",
            "Epoch 85/100\n",
            "32/32 [==============================] - 0s 5ms/step - loss: 0.4323 - accuracy: 0.8688 - val_loss: 0.4758 - val_accuracy: 0.8721\n",
            "Epoch 86/100\n",
            "32/32 [==============================] - 0s 5ms/step - loss: 0.4222 - accuracy: 0.8905 - val_loss: 0.4493 - val_accuracy: 0.8813\n",
            "Epoch 87/100\n",
            "32/32 [==============================] - 0s 5ms/step - loss: 0.3883 - accuracy: 0.9162 - val_loss: 0.4394 - val_accuracy: 0.8721\n",
            "Epoch 88/100\n",
            "32/32 [==============================] - 0s 5ms/step - loss: 0.4243 - accuracy: 0.8904 - val_loss: 0.4732 - val_accuracy: 0.8721\n",
            "Epoch 89/100\n",
            "32/32 [==============================] - 0s 5ms/step - loss: 0.4023 - accuracy: 0.9025 - val_loss: 0.4660 - val_accuracy: 0.8767\n",
            "Epoch 90/100\n",
            "32/32 [==============================] - 0s 5ms/step - loss: 0.4056 - accuracy: 0.9033 - val_loss: 0.4441 - val_accuracy: 0.8676\n",
            "Epoch 91/100\n",
            "32/32 [==============================] - 0s 5ms/step - loss: 0.4095 - accuracy: 0.8995 - val_loss: 0.4883 - val_accuracy: 0.8721\n",
            "Epoch 92/100\n",
            "32/32 [==============================] - 0s 5ms/step - loss: 0.4265 - accuracy: 0.8973 - val_loss: 0.4460 - val_accuracy: 0.8813\n",
            "Epoch 93/100\n",
            "32/32 [==============================] - 0s 5ms/step - loss: 0.4394 - accuracy: 0.8866 - val_loss: 0.4567 - val_accuracy: 0.8767\n",
            "Epoch 94/100\n",
            "32/32 [==============================] - 0s 5ms/step - loss: 0.4332 - accuracy: 0.8793 - val_loss: 0.4674 - val_accuracy: 0.8493\n",
            "Epoch 95/100\n",
            "32/32 [==============================] - 0s 5ms/step - loss: 0.4256 - accuracy: 0.8936 - val_loss: 0.4544 - val_accuracy: 0.8904\n",
            "Epoch 96/100\n",
            "32/32 [==============================] - 0s 5ms/step - loss: 0.4518 - accuracy: 0.8635 - val_loss: 0.4604 - val_accuracy: 0.8904\n",
            "Epoch 97/100\n",
            "32/32 [==============================] - 0s 5ms/step - loss: 0.4060 - accuracy: 0.9134 - val_loss: 0.4570 - val_accuracy: 0.8721\n",
            "Epoch 98/100\n",
            "32/32 [==============================] - 0s 5ms/step - loss: 0.4620 - accuracy: 0.8656 - val_loss: 0.4642 - val_accuracy: 0.8721\n",
            "Epoch 99/100\n",
            "32/32 [==============================] - 0s 5ms/step - loss: 0.4519 - accuracy: 0.8828 - val_loss: 0.4458 - val_accuracy: 0.8858\n",
            "Epoch 100/100\n",
            "32/32 [==============================] - 0s 5ms/step - loss: 0.4221 - accuracy: 0.8805 - val_loss: 0.4587 - val_accuracy: 0.8858\n"
          ],
          "name": "stdout"
        }
      ]
    },
    {
      "cell_type": "code",
      "metadata": {
        "colab": {
          "base_uri": "https://localhost:8080/",
          "height": 295
        },
        "id": "SPmOS02mbXL7",
        "outputId": "dbbe657d-b7df-43f5-a3cf-6ce3f12c4456"
      },
      "source": [
        "plt.plot(hist_3.history['loss'])\n",
        "plt.plot(hist_3.history['val_loss'])\n",
        "plt.title('Model loss')\n",
        "plt.ylabel('Loss')\n",
        "plt.xlabel('Epoch')\n",
        "plt.legend(['Train', 'Val'], loc='upper right')\n",
        "plt.ylim(top=1.2, bottom=0)\n",
        "plt.show()"
      ],
      "execution_count": null,
      "outputs": [
        {
          "output_type": "display_data",
          "data": {
            "image/png": "[encoded data removed]",
            "text/plain": [
              "<Figure size 432x288 with 1 Axes>"
            ]
          },
          "metadata": {
            "tags": [],
            "needs_background": "light"
          }
        }
      ]
    },
    {
      "cell_type": "code",
      "metadata": {
        "colab": {
          "base_uri": "https://localhost:8080/",
          "height": 295
        },
        "id": "SRtkhqA8bZ4s",
        "outputId": "f1bef58d-6331-4f8d-e741-8cd35298bdb7"
      },
      "source": [
        "plt.plot(hist_3.history['accuracy'])\n",
        "plt.plot(hist_3.history['val_accuracy'])\n",
        "plt.title('Model accuracy')\n",
        "plt.ylabel('Accuracy')\n",
        "plt.xlabel('Epoch')\n",
        "plt.legend(['Train', 'Val'], loc='lower right')\n",
        "plt.show()\n"
      ],
      "execution_count": null,
      "outputs": [
        {
          "output_type": "display_data",
          "data": {
            "image/png": "[encoded data removed]",
            "text/plain": [
              "<Figure size 432x288 with 1 Axes>"
            ]
          },
          "metadata": {
            "tags": [],
            "needs_background": "light"
          }
        }
      ]
    },
    {
      "cell_type": "markdown",
      "metadata": {
        "id": "KIPfUyoRbhpi"
      },
      "source": [
        "Would love to come back to this post and read it again! \n",
        "Link: https://hackernoon.com/build-your-first-neural-network-to-predict-house-prices-with-keras-3fb0839680f4"
      ]
    },
    {
      "cell_type": "code",
      "metadata": {
        "id": "2E8hCWw1wh3o"
      },
      "source": [
        "#we can tweek this code using regression loss algos\n",
        "def deep_model(model, X_train, y_train, X_valid, y_valid):  \n",
        "  model.compile(optimizer='rmsprop'\n",
        "                  , loss='categorical_crossentropy'\n",
        "                  , metrics=['accuracy'])\n",
        "    \n",
        "  history = model.fit(X_train\n",
        "                       , y_train\n",
        "                       , epochs=NB_START_EPOCHS\n",
        "                       , batch_size=BATCH_SIZE\n",
        "                       , validation_data=(X_valid, y_valid)\n",
        "                       , verbose=0)\n",
        "  return history"
      ],
      "execution_count": 30,
      "outputs": []
    },
    {
      "cell_type": "code",
      "metadata": {
        "id": "yxV5MxHXwrbR"
      },
      "source": [
        "'''\n",
        "    Function to evaluate a trained model on a chosen metric. \n",
        "    Training and validation metric are plotted in a\n",
        "    line chart for each epoch.\n",
        "    \n",
        "    Parameters:\n",
        "        history : model training history\n",
        "        metric_name : loss or accuracy\n",
        "    Output:\n",
        "        line chart with epochs of x-axis and metric on\n",
        "        y-axis\n",
        "    '''\n",
        "def eval_metric(model, history, metric_name):\n",
        "    metric = history.history[metric_name]\n",
        "    val_metric = history.history['val_' + metric_name]\n",
        "    e = range(1, NB_START_EPOCHS + 1)\n",
        "    plt.plot(e, metric, 'bo', label='Train ' + metric_name)\n",
        "    plt.plot(e, val_metric, 'b', label='Validation ' + metric_name)\n",
        "    plt.xlabel('Epoch number')\n",
        "    plt.ylabel(metric_name)\n",
        "    plt.title('Comparing training and validation ' + metric_name + ' for ' + model.name)\n",
        "    plt.legend()\n",
        "    plt.show()"
      ],
      "execution_count": 31,
      "outputs": []
    },
    {
      "cell_type": "code",
      "metadata": {
        "id": "g1atuFMNwuPD"
      },
      "source": [
        "'''\n",
        "    Function to test the model on new data after training it\n",
        "    on the full training data with the optimal number of epochs.\n",
        "    \n",
        "    Parameters:\n",
        "        model : trained model\n",
        "        X_train : training features\n",
        "        y_train : training target\n",
        "        X_test : test features\n",
        "        y_test : test target\n",
        "        epochs : optimal number of epochs\n",
        "    Output:\n",
        "        test accuracy and test loss\n",
        "    '''\n",
        "def test_model(model, X_train, y_train, X_test, y_test, epoch_stop):\n",
        "  model.fit(X_train\n",
        "              , y_train\n",
        "              , epochs=epoch_stop\n",
        "              , batch_size=BATCH_SIZE\n",
        "              , verbose=0)\n",
        "  results = model.evaluate(X_test, y_test)\n",
        "  print()\n",
        "  print('Test accuracy: {0:.2f}%'.format(results[1]*100))\n",
        "  return results"
      ],
      "execution_count": 32,
      "outputs": []
    },
    {
      "cell_type": "code",
      "metadata": {
        "id": "8owrBFzGwwv0"
      },
      "source": [
        "def compare_models_by_metric(model_1, model_2, model_hist_1, model_hist_2, metric):\n",
        "    '''\n",
        "    Function to compare a metric between two models \n",
        "    \n",
        "    Parameters:\n",
        "        model_hist_1 : training history of model 1\n",
        "        model_hist_2 : training history of model 2\n",
        "        metrix : metric to compare, loss, acc, val_loss or val_acc\n",
        "        \n",
        "    Output:\n",
        "        plot of metrics of both models\n",
        "    '''\n",
        "    metric_model_1 = model_hist_1.history[metric]\n",
        "    metric_model_2 = model_hist_2.history[metric]\n",
        "    e = range(1, NB_START_EPOCHS + 1)\n",
        "    \n",
        "    metrics_dict = {\n",
        "        'acc' : 'Training Accuracy',\n",
        "        'loss' : 'Training Loss',\n",
        "        'val_acc' : 'Validation accuracy',\n",
        "        'val_loss' : 'Validation loss'\n",
        "    }\n",
        "    \n",
        "    metric_label = metrics_dict[metric]\n",
        "    plt.plot(e, metric_model_1, 'bo', label=model_1.name)\n",
        "    plt.plot(e, metric_model_2, 'b', label=model_2.name)\n",
        "    plt.xlabel('Epoch number')\n",
        "    plt.ylabel(metric_label)\n",
        "    plt.title('Comparing ' + metric_label + ' between models')\n",
        "    plt.legend()\n",
        "    plt.show()"
      ],
      "execution_count": 33,
      "outputs": []
    },
    {
      "cell_type": "code",
      "metadata": {
        "id": "4u70iIIEw2RU"
      },
      "source": [
        "def optimal_epoch(model_hist):\n",
        "    '''\n",
        "    Function to return the epoch number where the validation loss is\n",
        "    at its minimum\n",
        "    \n",
        "    Parameters:\n",
        "        model_hist : training history of model\n",
        "    Output:\n",
        "        epoch number with minimum validation loss\n",
        "    '''\n",
        "    min_epoch = np.argmin(model_hist.history['val_loss']) + 1\n",
        "    print(\"Minimum validation loss reached in epoch {}\".format(min_epoch))\n",
        "    return min_epoch"
      ],
      "execution_count": 34,
      "outputs": []
    },
    {
      "cell_type": "code",
      "metadata": {
        "id": "ERG7rPs3xGYt"
      },
      "source": [
        "base_model = models.Sequential()\n",
        "base_model.add(layers.Dense(64, activation='relu', input_shape=(10000,)))\n",
        "base_model.add(layers.Dense(64, activation='relu'))\n",
        "base_model.add(layers.Dense(3, activation='softmax'))\n",
        "base_model.nam = 'Baseline model'"
      ],
      "execution_count": 35,
      "outputs": []
    }
  ]
}