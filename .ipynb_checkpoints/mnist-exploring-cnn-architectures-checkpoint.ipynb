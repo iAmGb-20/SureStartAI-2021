{
 "cells": [
  {
   "cell_type": "code",
   "execution_count": 7,
   "id": "republican-timing",
   "metadata": {},
   "outputs": [
    {
     "name": "stderr",
     "output_type": "stream",
     "text": [
      "Using TensorFlow backend.\n"
     ]
    }
   ],
   "source": [
    "#import all the necessary libraries\n",
    "import numpy as np \n",
    "import pandas as pd\n",
    "import os\n",
    "import seaborn as sns\n",
    "import matplotlib.pyplot as plt\n",
    "from keras.datasets import mnist\n",
    "from matplotlib import pyplot\n",
    "from tensorflow.keras.utils import to_categorical\n",
    "from keras.models import Sequential\n",
    "from sklearn.model_selection import KFold\n",
    "from keras.layers import Dense, Dropout, Flatten, Conv2D, MaxPool2D,BatchNormalization\n",
    "from keras.optimizers import RMSprop,Adam,SGD\n"
   ]
  },
  {
   "cell_type": "markdown",
   "id": "affecting-montreal",
   "metadata": {},
   "source": [
    "**We can now read the dataset from keras**"
   ]
  },
  {
   "cell_type": "code",
   "execution_count": 11,
   "id": "hungry-horizontal",
   "metadata": {},
   "outputs": [
    {
     "name": "stdout",
     "output_type": "stream",
     "text": [
      "Train data shape, data=(60000, 28, 28),labels=(60000,)\n",
      "Test data shape, data=(10000, 28, 28),labels=(10000,)\n"
     ]
    }
   ],
   "source": [
    "(x_train,y_train),(x_test,y_test) = mnist.load_data()\n",
    "print('Train data shape, data={},labels={}'.format(x_train.shape,y_train.shape))\n",
    "print('Test data shape, data={},labels={}'.format(x_test.shape,y_test.shape))"
   ]
  },
  {
   "cell_type": "markdown",
   "id": "dangerous-manner",
   "metadata": {},
   "source": [
    "**Preview of the images**"
   ]
  },
  {
   "cell_type": "code",
   "execution_count": 6,
   "id": "selective-officer",
   "metadata": {},
   "outputs": [
    {
     "data": {
      "image/png": "[encoded data removed]",
      "text/plain": [
       "<Figure size 432x288 with 9 Axes>"
      ]
     },
     "metadata": {
      "needs_background": "light"
     },
     "output_type": "display_data"
    }
   ],
   "source": [
    "# plot first few images\n",
    "for i in range(9):\n",
    "    # define subplot\n",
    "    pyplot.subplot(330 + 1 + i)\n",
    "    # plot raw pixel data\n",
    "    pyplot.imshow(x_train[i], cmap=pyplot.get_cmap('gray'))\n",
    "# show the figure\n",
    "pyplot.show()\n"
   ]
  },
  {
   "cell_type": "markdown",
   "id": "continental-beginning",
   "metadata": {},
   "source": [
    "**In developing our baseline model, we can prepare the data for use by reshaping it**"
   ]
  },
  {
   "cell_type": "code",
   "execution_count": 12,
   "id": "brave-circulation",
   "metadata": {},
   "outputs": [],
   "source": [
    "x_train = x_train.reshape((x_train.shape[0],28,28,1))\n",
    "x_test = x_test.reshape((x_test.shape[0],28,28,1))"
   ]
  },
  {
   "cell_type": "markdown",
   "id": "helpful-accuracy",
   "metadata": {},
   "source": [
    "**We do one hot encoding on the variables 0 to 9**"
   ]
  },
  {
   "cell_type": "code",
   "execution_count": 13,
   "id": "material-diary",
   "metadata": {},
   "outputs": [],
   "source": [
    "y_train = to_categorical(y_train)\n",
    "y_test = to_categorical(y_test)"
   ]
  },
  {
   "cell_type": "markdown",
   "id": "delayed-george",
   "metadata": {},
   "source": [
    "**we can check the current shape of the dataset**"
   ]
  },
  {
   "cell_type": "code",
   "execution_count": 14,
   "id": "requested-conversion",
   "metadata": {},
   "outputs": [
    {
     "name": "stdout",
     "output_type": "stream",
     "text": [
      "y_test shape is: \n"
     ]
    },
    {
     "data": {
      "text/plain": [
       "(10000, 10)"
      ]
     },
     "execution_count": 14,
     "metadata": {},
     "output_type": "execute_result"
    }
   ],
   "source": [
    "print('y_test shape is: ')\n",
    "y_test.shape"
   ]
  },
  {
   "cell_type": "code",
   "execution_count": 15,
   "id": "bibliographic-despite",
   "metadata": {},
   "outputs": [
    {
     "name": "stdout",
     "output_type": "stream",
     "text": [
      "y_train shape is: \n"
     ]
    },
    {
     "data": {
      "text/plain": [
       "(60000, 10)"
      ]
     },
     "execution_count": 15,
     "metadata": {},
     "output_type": "execute_result"
    }
   ],
   "source": [
    "print('y_train shape is: ')\n",
    "y_train.shape"
   ]
  },
  {
   "cell_type": "markdown",
   "id": "direct-input",
   "metadata": {},
   "source": [
    "**Normalize pixel values from 0 to 1 instead of from 0 to 255 for faster training**"
   ]
  },
  {
   "cell_type": "code",
   "execution_count": 16,
   "id": "decreased-mitchell",
   "metadata": {},
   "outputs": [],
   "source": [
    "x_train= x_train.astype('float32')\n",
    "x_test = x_test.astype('float32')\n",
    "x_train =x_train/255.0\n",
    "x_test = x_test/255.0"
   ]
  },
  {
   "cell_type": "markdown",
   "id": "daily-future",
   "metadata": {},
   "source": [
    "**Build a simple model here...**"
   ]
  },
  {
   "cell_type": "code",
   "execution_count": 15,
   "id": "musical-acrobat",
   "metadata": {},
   "outputs": [],
   "source": [
    "#define the model\n",
    "model1 = Sequential() #this is the easiest way to build a model in keras since it allows us to build layer by layer\n",
    "#add convolution layer\n",
    "model1.add(Conv2D(32, (3, 3), activation='relu', kernel_initializer='he_uniform', input_shape=(28, 28, 1)))\n",
    "#add the maxpooling layer\n",
    "model1.add(MaxPool2D((2, 2)))\n",
    "#flatten the layers to provide features to the classifier\n",
    "#flattening also allows convolution layer to connect to the dense layers\n",
    "model1.add(Flatten())\n",
    "#add layers\n",
    "#first layer has 100 nodes, using rectified linear activation \n",
    "model1.add(Dense(100, activation='relu', kernel_initializer='he_uniform'))\n",
    "#second layer ahs 10 outputs since we only have 10 digits. softmax allows the output to sum up to 1 \n",
    "model1.add(Dense(10, activation='softmax'))\n",
    "# compile model\n",
    "#this step takes optimizer, loss and metrics. Optimizer controls the learning rate\n",
    "#learning rate is how fast the model calculates optimal weights\n",
    "opt = SGD(lr=0.01, momentum=0.9) \n",
    "model1.compile(optimizer=opt, loss='categorical_crossentropy', metrics=['accuracy']) #use accuracy to see the accuracy score on\n",
    "#on the validation set when training the model"
   ]
  },
  {
   "cell_type": "markdown",
   "id": "latter-incidence",
   "metadata": {},
   "source": [
    "**Now we train our model**"
   ]
  },
  {
   "cell_type": "code",
   "execution_count": 16,
   "id": "collected-barrier",
   "metadata": {},
   "outputs": [
    {
     "name": "stdout",
     "output_type": "stream",
     "text": [
      "Train on 60000 samples, validate on 10000 samples\n",
      "Epoch 1/10\n",
      "60000/60000 [==============================] - 23s 380us/step - loss: 2.2968 - accuracy: 0.1201 - val_loss: 2.2921 - val_accuracy: 0.1310\n",
      "Epoch 2/10\n",
      "60000/60000 [==============================] - 25s 416us/step - loss: 2.2860 - accuracy: 0.1498 - val_loss: 2.2783 - val_accuracy: 0.1389\n",
      "Epoch 3/10\n",
      "60000/60000 [==============================] - 26s 438us/step - loss: 2.2652 - accuracy: 0.2027 - val_loss: 2.2451 - val_accuracy: 0.3395\n",
      "Epoch 4/10\n",
      "60000/60000 [==============================] - 28s 462us/step - loss: 2.2063 - accuracy: 0.3147 - val_loss: 2.1391 - val_accuracy: 0.5115\n",
      "Epoch 5/10\n",
      "60000/60000 [==============================] - 29s 484us/step - loss: 1.9839 - accuracy: 0.4897 - val_loss: 1.7345 - val_accuracy: 0.6989\n",
      "Epoch 6/10\n",
      "60000/60000 [==============================] - 29s 487us/step - loss: 1.3768 - accuracy: 0.6970 - val_loss: 1.0090 - val_accuracy: 0.7854\n",
      "Epoch 7/10\n",
      "60000/60000 [==============================] - 34s 561us/step - loss: 0.8312 - accuracy: 0.8008 - val_loss: 0.6630 - val_accuracy: 0.8362\n",
      "Epoch 8/10\n",
      "60000/60000 [==============================] - 30s 496us/step - loss: 0.6043 - accuracy: 0.8393 - val_loss: 0.5280 - val_accuracy: 0.8588\n",
      "Epoch 9/10\n",
      "60000/60000 [==============================] - 30s 498us/step - loss: 0.5048 - accuracy: 0.8603 - val_loss: 0.4540 - val_accuracy: 0.8756\n",
      "Epoch 10/10\n",
      "60000/60000 [==============================] - 32s 540us/step - loss: 0.4503 - accuracy: 0.8728 - val_loss: 0.4166 - val_accuracy: 0.8838\n",
      "10000/10000 [==============================] - 2s 182us/step\n",
      "> 88.380\n",
      "Train on 60000 samples, validate on 10000 samples\n",
      "Epoch 1/10\n",
      "60000/60000 [==============================] - 33s 542us/step - loss: 0.4180 - accuracy: 0.8806 - val_loss: 0.3914 - val_accuracy: 0.8887\n",
      "Epoch 2/10\n",
      "60000/60000 [==============================] - 29s 489us/step - loss: 0.3960 - accuracy: 0.8862 - val_loss: 0.3679 - val_accuracy: 0.8933\n",
      "Epoch 3/10\n",
      "60000/60000 [==============================] - 31s 523us/step - loss: 0.3794 - accuracy: 0.8901 - val_loss: 0.3534 - val_accuracy: 0.8985\n",
      "Epoch 4/10\n",
      "60000/60000 [==============================] - 37s 617us/step - loss: 0.3668 - accuracy: 0.8934 - val_loss: 0.3418 - val_accuracy: 0.9004\n",
      "Epoch 5/10\n",
      "60000/60000 [==============================] - 30s 496us/step - loss: 0.3563 - accuracy: 0.8966 - val_loss: 0.3359 - val_accuracy: 0.9018\n",
      "Epoch 6/10\n",
      "60000/60000 [==============================] - 29s 486us/step - loss: 0.3473 - accuracy: 0.8978 - val_loss: 0.3259 - val_accuracy: 0.9056\n",
      "Epoch 7/10\n",
      "60000/60000 [==============================] - 28s 465us/step - loss: 0.3399 - accuracy: 0.9002 - val_loss: 0.3183 - val_accuracy: 0.9066\n",
      "Epoch 8/10\n",
      "60000/60000 [==============================] - 29s 480us/step - loss: 0.3330 - accuracy: 0.9025 - val_loss: 0.3134 - val_accuracy: 0.9079\n",
      "Epoch 9/10\n",
      "60000/60000 [==============================] - 28s 473us/step - loss: 0.3264 - accuracy: 0.9039 - val_loss: 0.3050 - val_accuracy: 0.9103\n",
      "Epoch 10/10\n",
      "60000/60000 [==============================] - 27s 444us/step - loss: 0.3216 - accuracy: 0.9050 - val_loss: 0.3027 - val_accuracy: 0.9106\n",
      "10000/10000 [==============================] - 2s 193us/step\n",
      "> 91.060\n",
      "Train on 60000 samples, validate on 10000 samples\n",
      "Epoch 1/10\n",
      "60000/60000 [==============================] - 28s 460us/step - loss: 0.3158 - accuracy: 0.9065 - val_loss: 0.2966 - val_accuracy: 0.9120\n",
      "Epoch 2/10\n",
      "60000/60000 [==============================] - 27s 452us/step - loss: 0.3107 - accuracy: 0.9085 - val_loss: 0.2914 - val_accuracy: 0.9147\n",
      "Epoch 3/10\n",
      "60000/60000 [==============================] - 26s 430us/step - loss: 0.3060 - accuracy: 0.9100 - val_loss: 0.2886 - val_accuracy: 0.9144\n",
      "Epoch 4/10\n",
      "60000/60000 [==============================] - 26s 434us/step - loss: 0.3025 - accuracy: 0.9106 - val_loss: 0.2849 - val_accuracy: 0.9167\n",
      "Epoch 5/10\n",
      "60000/60000 [==============================] - 26s 426us/step - loss: 0.2980 - accuracy: 0.9126 - val_loss: 0.2801 - val_accuracy: 0.9172\n",
      "Epoch 6/10\n",
      "60000/60000 [==============================] - 26s 435us/step - loss: 0.2936 - accuracy: 0.9130 - val_loss: 0.2765 - val_accuracy: 0.9196\n",
      "Epoch 7/10\n",
      "60000/60000 [==============================] - 26s 432us/step - loss: 0.2904 - accuracy: 0.9147 - val_loss: 0.2703 - val_accuracy: 0.9207\n",
      "Epoch 8/10\n",
      "60000/60000 [==============================] - 26s 432us/step - loss: 0.2862 - accuracy: 0.9158 - val_loss: 0.2663 - val_accuracy: 0.9217\n",
      "Epoch 9/10\n",
      "60000/60000 [==============================] - 26s 426us/step - loss: 0.2821 - accuracy: 0.9174 - val_loss: 0.2636 - val_accuracy: 0.9227\n",
      "Epoch 10/10\n",
      "60000/60000 [==============================] - 26s 431us/step - loss: 0.2771 - accuracy: 0.9190 - val_loss: 0.2583 - val_accuracy: 0.9228\n",
      "10000/10000 [==============================] - 2s 185us/step\n",
      "> 92.280\n",
      "Train on 60000 samples, validate on 10000 samples\n",
      "Epoch 1/10\n",
      "60000/60000 [==============================] - 26s 435us/step - loss: 0.2729 - accuracy: 0.9198 - val_loss: 0.2587 - val_accuracy: 0.9248\n",
      "Epoch 2/10\n",
      "60000/60000 [==============================] - 27s 449us/step - loss: 0.2692 - accuracy: 0.9209 - val_loss: 0.2572 - val_accuracy: 0.9248\n",
      "Epoch 3/10\n",
      "60000/60000 [==============================] - 27s 454us/step - loss: 0.2651 - accuracy: 0.9218 - val_loss: 0.2508 - val_accuracy: 0.9275\n",
      "Epoch 4/10\n",
      "60000/60000 [==============================] - 26s 428us/step - loss: 0.2605 - accuracy: 0.9236 - val_loss: 0.2467 - val_accuracy: 0.9287\n",
      "Epoch 5/10\n",
      "60000/60000 [==============================] - 29s 480us/step - loss: 0.2565 - accuracy: 0.9248 - val_loss: 0.2423 - val_accuracy: 0.9286\n",
      "Epoch 6/10\n",
      "60000/60000 [==============================] - 29s 478us/step - loss: 0.2526 - accuracy: 0.9258 - val_loss: 0.2394 - val_accuracy: 0.9302\n",
      "Epoch 7/10\n",
      "60000/60000 [==============================] - 27s 454us/step - loss: 0.2493 - accuracy: 0.9267 - val_loss: 0.2329 - val_accuracy: 0.9324\n",
      "Epoch 8/10\n",
      "60000/60000 [==============================] - 27s 449us/step - loss: 0.2447 - accuracy: 0.9281 - val_loss: 0.2299 - val_accuracy: 0.9332\n",
      "Epoch 9/10\n",
      "60000/60000 [==============================] - 28s 467us/step - loss: 0.2415 - accuracy: 0.9288 - val_loss: 0.2290 - val_accuracy: 0.9329\n",
      "Epoch 10/10\n",
      "60000/60000 [==============================] - 28s 474us/step - loss: 0.2372 - accuracy: 0.9308 - val_loss: 0.2242 - val_accuracy: 0.9361\n",
      "10000/10000 [==============================] - 2s 175us/step\n",
      "> 93.610\n",
      "Train on 60000 samples, validate on 10000 samples\n",
      "Epoch 1/10\n",
      "60000/60000 [==============================] - 28s 464us/step - loss: 0.2337 - accuracy: 0.9312 - val_loss: 0.2225 - val_accuracy: 0.9354\n",
      "Epoch 2/10\n",
      "60000/60000 [==============================] - 28s 464us/step - loss: 0.2304 - accuracy: 0.9326 - val_loss: 0.2215 - val_accuracy: 0.9360\n",
      "Epoch 3/10\n",
      "60000/60000 [==============================] - 28s 474us/step - loss: 0.2266 - accuracy: 0.9335 - val_loss: 0.2140 - val_accuracy: 0.9379\n",
      "Epoch 4/10\n",
      "60000/60000 [==============================] - 28s 462us/step - loss: 0.2236 - accuracy: 0.9344 - val_loss: 0.2124 - val_accuracy: 0.9379\n",
      "Epoch 5/10\n",
      "60000/60000 [==============================] - 28s 459us/step - loss: 0.2209 - accuracy: 0.9352 - val_loss: 0.2110 - val_accuracy: 0.9390\n",
      "Epoch 6/10\n",
      "60000/60000 [==============================] - 27s 453us/step - loss: 0.2173 - accuracy: 0.9358 - val_loss: 0.2063 - val_accuracy: 0.9385\n",
      "Epoch 7/10\n",
      "60000/60000 [==============================] - 28s 462us/step - loss: 0.2142 - accuracy: 0.9379 - val_loss: 0.2032 - val_accuracy: 0.9407\n",
      "Epoch 8/10\n",
      "60000/60000 [==============================] - 28s 465us/step - loss: 0.2112 - accuracy: 0.9384 - val_loss: 0.2008 - val_accuracy: 0.9409\n",
      "Epoch 9/10\n",
      "60000/60000 [==============================] - 28s 459us/step - loss: 0.2082 - accuracy: 0.9384 - val_loss: 0.1984 - val_accuracy: 0.9427\n",
      "Epoch 10/10\n",
      "60000/60000 [==============================] - 28s 474us/step - loss: 0.2053 - accuracy: 0.9399 - val_loss: 0.1958 - val_accuracy: 0.9438\n",
      "10000/10000 [==============================] - 2s 171us/step\n",
      "> 94.380\n"
     ]
    }
   ],
   "source": [
    "scores, histories = [], []\n",
    "# prepare cross validation\n",
    "kfold = KFold(5, shuffle=True, random_state=1)\n",
    "# enumerate splits\n",
    "for train_ix, test_ix in kfold.split(x_train):\n",
    "    # define model\n",
    "    # fit model...this takes in four arguments: training data, target data, validation data, number of epochs\n",
    "    history = model1.fit(x_train, y_train, epochs=10, batch_size=128, validation_data=(x_test, y_test), verbose=1)\n",
    "    # evaluate model\n",
    "    _, acc = model1.evaluate(x_test, y_test, verbose=1)\n",
    "    print('> %.3f' % (acc * 100.0))\n",
    "    # stores scores\n",
    "    scores.append(acc)\n",
    "    histories.append(history)"
   ]
  },
  {
   "cell_type": "markdown",
   "id": "developing-knight",
   "metadata": {},
   "source": [
    "**The results and accuracy of the 5 folds**"
   ]
  },
  {
   "cell_type": "code",
   "execution_count": 17,
   "id": "helpful-tribe",
   "metadata": {},
   "outputs": [
    {
     "name": "stdout",
     "output_type": "stream",
     "text": [
      "Accuracy: mean=91.942 std=2.112, n=5\n"
     ]
    }
   ],
   "source": [
    "print('Accuracy: mean=%.3f std=%.3f, n=%d' % (np.mean(scores)*100, np.std(scores)*100, len(scores)))"
   ]
  },
  {
   "cell_type": "markdown",
   "id": "discrete-absence",
   "metadata": {},
   "source": [
    "**Plot diagnostic learning**"
   ]
  },
  {
   "cell_type": "code",
   "execution_count": 18,
   "id": "packed-procurement",
   "metadata": {},
   "outputs": [
    {
     "name": "stderr",
     "output_type": "stream",
     "text": [
      "/Users/godblesschille/opt/anaconda3/envs/py37/lib/python3.7/site-packages/ipykernel_launcher.py:3: MatplotlibDeprecationWarning: Adding an axes using the same arguments as a previous axes currently reuses the earlier instance.  In a future version, a new instance will always be created and returned.  Meanwhile, this warning can be suppressed, and the future behavior ensured, by passing a unique label to each axes instance.\n",
      "  This is separate from the ipykernel package so we can avoid doing imports until\n",
      "/Users/godblesschille/opt/anaconda3/envs/py37/lib/python3.7/site-packages/ipykernel_launcher.py:8: MatplotlibDeprecationWarning: Adding an axes using the same arguments as a previous axes currently reuses the earlier instance.  In a future version, a new instance will always be created and returned.  Meanwhile, this warning can be suppressed, and the future behavior ensured, by passing a unique label to each axes instance.\n",
      "  \n"
     ]
    },
    {
     "data": {
      "image/png": "[encoded data removed]",
      "text/plain": [
       "<Figure size 432x288 with 2 Axes>"
      ]
     },
     "metadata": {
      "needs_background": "light"
     },
     "output_type": "display_data"
    }
   ],
   "source": [
    "for i in range(len(histories)):\n",
    "        # plot loss\n",
    "        pyplot.subplot(2, 1, 1)\n",
    "        pyplot.title('Cross Entropy Loss')\n",
    "        pyplot.plot(histories[i].history['loss'], color='blue', label='train')\n",
    "        pyplot.plot(histories[i].history['val_loss'], color='orange', label='test')\n",
    "        # plot accuracy\n",
    "        pyplot.subplot(2, 1, 2)\n",
    "        pyplot.title('Classification Accuracy')\n",
    "        pyplot.plot(histories[i].history['accuracy'], color='blue', label='train')\n",
    "        pyplot.plot(histories[i].history['val_accuracy'], color='orange', label='test')\n",
    "pyplot.show()"
   ]
  },
  {
   "cell_type": "markdown",
   "id": "graphic-newark",
   "metadata": {},
   "source": [
    "**To improve the accuracy and efficiency of our model, we can do different things.\n",
    "Batch normalization is one of the techniques that standardizes the inputs so as to increase the learning rate while reducing the numbers of epochs**"
   ]
  },
  {
   "cell_type": "markdown",
   "id": "disturbed-pocket",
   "metadata": {},
   "source": [
    "**Model 2 using batch normalization**"
   ]
  },
  {
   "cell_type": "code",
   "execution_count": 23,
   "id": "distinguished-diversity",
   "metadata": {},
   "outputs": [],
   "source": [
    "def define_model_batchnorm():\n",
    "    model = Sequential()\n",
    "    model.add(Conv2D(32, (3, 3), activation='relu', kernel_initializer='he_uniform', input_shape=(28, 28, 1)))\n",
    "    model.add(BatchNormalization())\n",
    "    model.add(MaxPool2D((2, 2)))\n",
    "    model.add(Flatten())\n",
    "    model.add(Dense(100, activation='relu', kernel_initializer='he_uniform'))\n",
    "    model.add(BatchNormalization())\n",
    "    model.add(Dense(10, activation='softmax'))\n",
    "    # compile model\n",
    "    opt = SGD(lr=0.01, momentum=0.9)\n",
    "    model.compile(optimizer=opt, loss='categorical_crossentropy', metrics=['accuracy'])\n",
    "    return model"
   ]
  },
  {
   "cell_type": "code",
   "execution_count": 24,
   "id": "missing-craps",
   "metadata": {},
   "outputs": [],
   "source": [
    "model2 = define_model_batchnorm()"
   ]
  },
  {
   "cell_type": "code",
   "execution_count": null,
   "id": "appropriate-injection",
   "metadata": {},
   "outputs": [
    {
     "name": "stdout",
     "output_type": "stream",
     "text": [
      "Train on 60000 samples, validate on 10000 samples\n",
      "Epoch 1/10\n",
      "60000/60000 [==============================] - 186s 3ms/step - loss: 0.1650 - accuracy: 0.9514 - val_loss: 0.1036 - val_accuracy: 0.9780\n",
      "Epoch 2/10\n",
      "60000/60000 [==============================] - 191s 3ms/step - loss: 0.0548 - accuracy: 0.9849 - val_loss: 0.0561 - val_accuracy: 0.9826\n",
      "Epoch 3/10\n",
      "59904/60000 [============================>.] - ETA: 0s - loss: 0.0338 - accuracy: 0.9911"
     ]
    }
   ],
   "source": [
    "scores2, histories2 = [], []\n",
    "# prepare cross validation\n",
    "kfold = KFold(5, shuffle=True, random_state=1)\n",
    "# enumerate splits\n",
    "for train_ix, test_ix in kfold.split(x_train):\n",
    "    # define model\n",
    "    # fit model\n",
    "    history = model2.fit(x_train, y_train, epochs=10, batch_size=128, validation_data=(x_test, y_test), verbose=1)\n",
    "    # evaluate model\n",
    "    _, acc = model2.evaluate(x_test, y_test, verbose=1)\n",
    "    print('> %.3f' % (acc * 100.0))\n",
    "    # stores scores\n",
    "    scores2.append(acc)\n",
    "    histories2.append(history)"
   ]
  },
  {
   "cell_type": "markdown",
   "id": "sacred-polyester",
   "metadata": {},
   "source": [
    "**Model 3: Increasing the number of filters for the convolution and pooling layers and the layers themselves**"
   ]
  },
  {
   "cell_type": "code",
   "execution_count": 17,
   "id": "outstanding-blond",
   "metadata": {},
   "outputs": [],
   "source": [
    "# define cnn model\n",
    "def define_model_d():\n",
    "    model = Sequential()\n",
    "    model.add(Conv2D(32, (3, 3), activation='relu', kernel_initializer='he_uniform', input_shape=(28, 28, 1)))\n",
    "    model.add(MaxPool2D((2, 2)))\n",
    "    model.add(Conv2D(64, (3, 3), activation='relu', kernel_initializer='he_uniform'))\n",
    "    model.add(Conv2D(64, (3, 3), activation='relu', kernel_initializer='he_uniform'))\n",
    "    model.add(MaxPool2D((2, 2)))\n",
    "    model.add(Flatten())\n",
    "    model.add(Dense(100, activation='relu', kernel_initializer='he_uniform'))\n",
    "    model.add(Dense(10, activation='softmax'))\n",
    "    # compile model\n",
    "    opt = SGD(lr=0.01, momentum=0.9)\n",
    "    model.compile(optimizer=opt, loss='categorical_crossentropy', metrics=['accuracy'])\n",
    "    return model\n"
   ]
  },
  {
   "cell_type": "code",
   "execution_count": 18,
   "id": "sophisticated-service",
   "metadata": {},
   "outputs": [],
   "source": [
    "model3 =define_model_d()"
   ]
  },
  {
   "cell_type": "code",
   "execution_count": 19,
   "id": "trying-street",
   "metadata": {},
   "outputs": [
    {
     "name": "stdout",
     "output_type": "stream",
     "text": [
      "Train on 60000 samples, validate on 10000 samples\n",
      "Epoch 1/10\n",
      "60000/60000 [==============================] - 47s 789us/step - loss: 0.1900 - accuracy: 0.9398 - val_loss: 0.0571 - val_accuracy: 0.9809\n",
      "Epoch 2/10\n",
      "60000/60000 [==============================] - 51s 858us/step - loss: 0.0598 - accuracy: 0.9814 - val_loss: 0.0490 - val_accuracy: 0.9843\n",
      "Epoch 3/10\n",
      "60000/60000 [==============================] - 53s 888us/step - loss: 0.0417 - accuracy: 0.9871 - val_loss: 0.0430 - val_accuracy: 0.9869\n",
      "Epoch 4/10\n",
      "60000/60000 [==============================] - 53s 878us/step - loss: 0.0338 - accuracy: 0.9898 - val_loss: 0.0407 - val_accuracy: 0.9866\n",
      "Epoch 5/10\n",
      "60000/60000 [==============================] - 53s 886us/step - loss: 0.0266 - accuracy: 0.9915 - val_loss: 0.0307 - val_accuracy: 0.9896\n",
      "Epoch 6/10\n",
      "60000/60000 [==============================] - 53s 880us/step - loss: 0.0209 - accuracy: 0.9936 - val_loss: 0.0322 - val_accuracy: 0.9898\n",
      "Epoch 7/10\n",
      "60000/60000 [==============================] - 56s 927us/step - loss: 0.0172 - accuracy: 0.9951 - val_loss: 0.0302 - val_accuracy: 0.9907\n",
      "Epoch 8/10\n",
      "60000/60000 [==============================] - 53s 885us/step - loss: 0.0148 - accuracy: 0.9954 - val_loss: 0.0320 - val_accuracy: 0.9903\n",
      "Epoch 9/10\n",
      "60000/60000 [==============================] - 54s 903us/step - loss: 0.0122 - accuracy: 0.9962 - val_loss: 0.0339 - val_accuracy: 0.9901\n",
      "Epoch 10/10\n",
      "60000/60000 [==============================] - 51s 852us/step - loss: 0.0103 - accuracy: 0.9967 - val_loss: 0.0334 - val_accuracy: 0.9898\n",
      "10000/10000 [==============================] - 4s 435us/step\n",
      "> 98.980\n",
      "Train on 60000 samples, validate on 10000 samples\n",
      "Epoch 1/10\n",
      "60000/60000 [==============================] - 51s 856us/step - loss: 0.0094 - accuracy: 0.9971 - val_loss: 0.0312 - val_accuracy: 0.9905\n",
      "Epoch 2/10\n",
      "60000/60000 [==============================] - 51s 856us/step - loss: 0.0071 - accuracy: 0.9980 - val_loss: 0.0302 - val_accuracy: 0.9908\n",
      "Epoch 3/10\n",
      "60000/60000 [==============================] - 52s 859us/step - loss: 0.0058 - accuracy: 0.9985 - val_loss: 0.0295 - val_accuracy: 0.9912\n",
      "Epoch 4/10\n",
      "60000/60000 [==============================] - 51s 850us/step - loss: 0.0045 - accuracy: 0.9989 - val_loss: 0.0360 - val_accuracy: 0.9904\n",
      "Epoch 5/10\n",
      "60000/60000 [==============================] - 51s 846us/step - loss: 0.0046 - accuracy: 0.9987 - val_loss: 0.0324 - val_accuracy: 0.9913\n",
      "Epoch 6/10\n",
      "60000/60000 [==============================] - 51s 854us/step - loss: 0.0036 - accuracy: 0.9990 - val_loss: 0.0335 - val_accuracy: 0.9911\n",
      "Epoch 7/10\n",
      "60000/60000 [==============================] - 51s 845us/step - loss: 0.0024 - accuracy: 0.9995 - val_loss: 0.0358 - val_accuracy: 0.9907\n",
      "Epoch 8/10\n",
      "60000/60000 [==============================] - 51s 844us/step - loss: 0.0015 - accuracy: 0.9998 - val_loss: 0.0345 - val_accuracy: 0.9917\n",
      "Epoch 9/10\n",
      "60000/60000 [==============================] - 51s 857us/step - loss: 0.0012 - accuracy: 0.9998 - val_loss: 0.0347 - val_accuracy: 0.9915\n",
      "Epoch 10/10\n",
      "60000/60000 [==============================] - 51s 847us/step - loss: 7.6106e-04 - accuracy: 0.9999 - val_loss: 0.0355 - val_accuracy: 0.9913\n",
      "10000/10000 [==============================] - 4s 432us/step\n",
      "> 99.130\n",
      "Train on 60000 samples, validate on 10000 samples\n",
      "Epoch 1/10\n",
      "60000/60000 [==============================] - 52s 860us/step - loss: 5.4536e-04 - accuracy: 0.9999 - val_loss: 0.0345 - val_accuracy: 0.9912\n",
      "Epoch 2/10\n",
      "60000/60000 [==============================] - 53s 883us/step - loss: 4.5619e-04 - accuracy: 1.0000 - val_loss: 0.0355 - val_accuracy: 0.9914\n",
      "Epoch 3/10\n",
      "60000/60000 [==============================] - 52s 860us/step - loss: 3.7830e-04 - accuracy: 1.0000 - val_loss: 0.0354 - val_accuracy: 0.9916\n",
      "Epoch 4/10\n",
      "60000/60000 [==============================] - 52s 862us/step - loss: 4.7451e-04 - accuracy: 0.9999 - val_loss: 0.0360 - val_accuracy: 0.9918\n",
      "Epoch 5/10\n",
      "60000/60000 [==============================] - 52s 861us/step - loss: 3.0717e-04 - accuracy: 1.0000 - val_loss: 0.0365 - val_accuracy: 0.9916\n",
      "Epoch 6/10\n",
      "60000/60000 [==============================] - 52s 864us/step - loss: 2.6890e-04 - accuracy: 1.0000 - val_loss: 0.0369 - val_accuracy: 0.9917\n",
      "Epoch 7/10\n",
      "60000/60000 [==============================] - 51s 852us/step - loss: 2.4962e-04 - accuracy: 1.0000 - val_loss: 0.0371 - val_accuracy: 0.9914\n",
      "Epoch 8/10\n",
      "60000/60000 [==============================] - 52s 867us/step - loss: 2.1353e-04 - accuracy: 1.0000 - val_loss: 0.0375 - val_accuracy: 0.9919\n",
      "Epoch 9/10\n",
      "60000/60000 [==============================] - 51s 851us/step - loss: 1.9082e-04 - accuracy: 1.0000 - val_loss: 0.0380 - val_accuracy: 0.9918\n",
      "Epoch 10/10\n",
      "60000/60000 [==============================] - 52s 859us/step - loss: 1.7992e-04 - accuracy: 1.0000 - val_loss: 0.0379 - val_accuracy: 0.9922\n",
      "10000/10000 [==============================] - 4s 448us/step\n",
      "> 99.220\n",
      "Train on 60000 samples, validate on 10000 samples\n",
      "Epoch 1/10\n",
      "60000/60000 [==============================] - 52s 861us/step - loss: 1.6801e-04 - accuracy: 1.0000 - val_loss: 0.0389 - val_accuracy: 0.9916\n",
      "Epoch 2/10\n",
      "60000/60000 [==============================] - 51s 847us/step - loss: 1.5648e-04 - accuracy: 1.0000 - val_loss: 0.0384 - val_accuracy: 0.9917\n",
      "Epoch 3/10\n",
      "60000/60000 [==============================] - 51s 853us/step - loss: 1.5131e-04 - accuracy: 1.0000 - val_loss: 0.0392 - val_accuracy: 0.9912\n",
      "Epoch 4/10\n",
      "60000/60000 [==============================] - 50s 841us/step - loss: 1.4159e-04 - accuracy: 1.0000 - val_loss: 0.0392 - val_accuracy: 0.9913\n",
      "Epoch 5/10\n",
      "60000/60000 [==============================] - 51s 852us/step - loss: 1.3410e-04 - accuracy: 1.0000 - val_loss: 0.0398 - val_accuracy: 0.9912\n",
      "Epoch 6/10\n",
      "60000/60000 [==============================] - 50s 841us/step - loss: 1.2484e-04 - accuracy: 1.0000 - val_loss: 0.0396 - val_accuracy: 0.9916\n",
      "Epoch 7/10\n",
      "60000/60000 [==============================] - 51s 852us/step - loss: 1.2052e-04 - accuracy: 1.0000 - val_loss: 0.0397 - val_accuracy: 0.9912\n",
      "Epoch 8/10\n",
      "60000/60000 [==============================] - 50s 841us/step - loss: 1.1475e-04 - accuracy: 1.0000 - val_loss: 0.0402 - val_accuracy: 0.9912\n",
      "Epoch 9/10\n",
      "60000/60000 [==============================] - 51s 843us/step - loss: 1.1090e-04 - accuracy: 1.0000 - val_loss: 0.0403 - val_accuracy: 0.9914\n",
      "Epoch 10/10\n",
      "60000/60000 [==============================] - 51s 857us/step - loss: 1.0555e-04 - accuracy: 1.0000 - val_loss: 0.0408 - val_accuracy: 0.9916\n",
      "10000/10000 [==============================] - 4s 425us/step\n",
      "> 99.160\n",
      "Train on 60000 samples, validate on 10000 samples\n",
      "Epoch 1/10\n",
      "60000/60000 [==============================] - 50s 841us/step - loss: 1.0126e-04 - accuracy: 1.0000 - val_loss: 0.0409 - val_accuracy: 0.9912\n",
      "Epoch 2/10\n",
      "60000/60000 [==============================] - 51s 850us/step - loss: 9.7739e-05 - accuracy: 1.0000 - val_loss: 0.0410 - val_accuracy: 0.9914\n",
      "Epoch 3/10\n",
      "60000/60000 [==============================] - 51s 847us/step - loss: 9.4452e-05 - accuracy: 1.0000 - val_loss: 0.0410 - val_accuracy: 0.9915\n",
      "Epoch 4/10\n",
      "60000/60000 [==============================] - 51s 844us/step - loss: 9.0613e-05 - accuracy: 1.0000 - val_loss: 0.0410 - val_accuracy: 0.9912\n",
      "Epoch 5/10\n",
      "60000/60000 [==============================] - 51s 843us/step - loss: 8.8075e-05 - accuracy: 1.0000 - val_loss: 0.0417 - val_accuracy: 0.9911\n",
      "Epoch 6/10\n",
      "60000/60000 [==============================] - 51s 848us/step - loss: 8.3517e-05 - accuracy: 1.0000 - val_loss: 0.0416 - val_accuracy: 0.9911\n",
      "Epoch 7/10\n",
      "60000/60000 [==============================] - 51s 851us/step - loss: 8.2339e-05 - accuracy: 1.0000 - val_loss: 0.0419 - val_accuracy: 0.9911\n",
      "Epoch 8/10\n",
      "60000/60000 [==============================] - 51s 847us/step - loss: 7.8567e-05 - accuracy: 1.0000 - val_loss: 0.0419 - val_accuracy: 0.9910\n",
      "Epoch 9/10\n",
      "60000/60000 [==============================] - 51s 852us/step - loss: 7.5810e-05 - accuracy: 1.0000 - val_loss: 0.0420 - val_accuracy: 0.9911\n",
      "Epoch 10/10\n",
      "60000/60000 [==============================] - 51s 845us/step - loss: 7.3828e-05 - accuracy: 1.0000 - val_loss: 0.0422 - val_accuracy: 0.9911\n",
      "10000/10000 [==============================] - 4s 432us/step\n",
      "> 99.110\n"
     ]
    }
   ],
   "source": [
    "scores3, histories3 = [], []\n",
    "# prepare cross validation\n",
    "kfold = KFold(5, shuffle=True, random_state=1)\n",
    "# enumerate splits\n",
    "for train_ix, test_ix in kfold.split(x_train):\n",
    "    # define model\n",
    "    # fit model\n",
    "    history = model3.fit(x_train, y_train, epochs=10, batch_size=128, validation_data=(x_test, y_test), verbose=1)\n",
    "    # evaluate model\n",
    "    _, acc = model3.evaluate(x_test, y_test, verbose=1)\n",
    "    print('> %.3f' % (acc * 100.0))\n",
    "    # stores scores\n",
    "    scores3.append(acc)\n",
    "    histories3.append(history)"
   ]
  },
  {
   "cell_type": "code",
   "execution_count": 22,
   "id": "applied-avenue",
   "metadata": {},
   "outputs": [
    {
     "name": "stdout",
     "output_type": "stream",
     "text": [
      "Accuracy: mean=99.120 std=0.079, n=5\n"
     ]
    }
   ],
   "source": [
    "print('Accuracy: mean=%.3f std=%.3f, n=%d' % (np.mean(scores3)*100, np.std(scores3)*100, len(scores3)))"
   ]
  },
  {
   "cell_type": "code",
   "execution_count": null,
   "id": "identified-vampire",
   "metadata": {},
   "outputs": [],
   "source": []
  }
 ],
 "metadata": {
  "kernelspec": {
   "display_name": "Python 3",
   "language": "python",
   "name": "python3"
  },
  "language_info": {
   "codemirror_mode": {
    "name": "ipython",
    "version": 3
   },
   "file_extension": ".py",
   "mimetype": "text/x-python",
   "name": "python",
   "nbconvert_exporter": "python",
   "pygments_lexer": "ipython3",
   "version": "3.7.9"
  }
 },
 "nbformat": 4,
 "nbformat_minor": 5
}
