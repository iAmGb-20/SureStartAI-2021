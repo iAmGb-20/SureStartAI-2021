{
  "nbformat": 4,
  "nbformat_minor": 0,
  "metadata": {
    "colab": {
      "name": "emotion-detection-model.ipynb",
      "provenance": [],
      "mount_file_id": "1k0UN6HZSHUIJ0MS3SXSTOa0yJZbf8lNk",
      "authorship_tag": "ABX9TyPq5i8jmN8yfyF2QOu7eVy4"
    },
    "kernelspec": {
      "name": "python3",
      "display_name": "Python 3"
    },
    "accelerator": "GPU"
  },
  "cells": [
    {
      "cell_type": "markdown",
      "metadata": {
        "id": "Nc9q80x26NqY"
      },
      "source": [
        "**Emotion Detection Model generation**\n",
        "\n",
        "In this notebook try to create Convolutional Neural Network Model from scratch by using Keras: the python deep learning api. \n",
        "\n"
      ]
    },
    {
      "cell_type": "code",
      "metadata": {
        "id": "6b59p46p6K5Q"
      },
      "source": [
        "#import necessary libraries\n",
        "from __future__ import print_function\n",
        "import keras\n",
        "from keras.preprocessing.image import ImageDataGenerator\n",
        "from keras.models import Sequential\n",
        "from keras.layers import Dense,Dropout,Activation,Flatten,BatchNormalization\n",
        "from keras.layers import Conv2D,MaxPooling2D\n",
        "import os"
      ],
      "execution_count": 1,
      "outputs": []
    },
    {
      "cell_type": "code",
      "metadata": {
        "colab": {
          "base_uri": "https://localhost:8080/"
        },
        "id": "vp9YENDe3waJ",
        "outputId": "072493ca-dc1e-465e-9c24-31a86261c4ac"
      },
      "source": [
        "from google.colab import drive\n",
        "drive.mount('/content/drive', force_remount=True)"
      ],
      "execution_count": 3,
      "outputs": [
        {
          "output_type": "stream",
          "text": [
            "Mounted at /content/drive\n"
          ],
          "name": "stdout"
        }
      ]
    },
    {
      "cell_type": "code",
      "metadata": {
        "colab": {
          "base_uri": "https://localhost:8080/"
        },
        "id": "jo3zN8UD36X6",
        "outputId": "3c25e18d-5a88-4759-a51d-35ef17cbafc2"
      },
      "source": [
        "!ls"
      ],
      "execution_count": 4,
      "outputs": [
        {
          "output_type": "stream",
          "text": [
            "drive  sample_data\n"
          ],
          "name": "stdout"
        }
      ]
    },
    {
      "cell_type": "code",
      "metadata": {
        "id": "9FBOnnKI5_8A"
      },
      "source": [
        "train_data_dir='/content/drive/MyDrive/fer2013/train'\n",
        "validation_data_dir='/content/drive/MyDrive/fer2013/validation'"
      ],
      "execution_count": 5,
      "outputs": []
    },
    {
      "cell_type": "markdown",
      "metadata": {
        "id": "uhTyNzdu7Tle"
      },
      "source": [
        "Define important variables to be used throghout"
      ]
    },
    {
      "cell_type": "code",
      "metadata": {
        "id": "6JBsrNIe7XDw"
      },
      "source": [
        "num_classes=5\n",
        "img_rows,img_cols=48,48\n",
        "batch_size=32"
      ],
      "execution_count": 6,
      "outputs": []
    },
    {
      "cell_type": "markdown",
      "metadata": {
        "id": "r6ORO5tr7c_m"
      },
      "source": [
        "The description for above variables are as follows:\n",
        "\n",
        "- num_classses = 5 : This variable defines the number of classes or the emotions that we will be dealing with in training our model.\n",
        "\n",
        "- img_rows,img_cols=48,48 : These variables define the size of the image array that we will be feeding to our neural network.\n",
        "\n",
        "- batch_size=32: This variable defines the batch size.The batch size is a number of samples processed before the model is updated. The number of epochs is the number of complete passes through the training dataset. The size of a batch must be more than or equal to one and less than or equal to the number of samples in the training dataset.\n",
        "\n"
      ]
    },
    {
      "cell_type": "markdown",
      "metadata": {
        "id": "rVhDSr187kie"
      },
      "source": [
        "Now we will be using Image Augmentation techniques om our dataset. Image data augmentation is a technique that can be used to artificially expand the size of a training dataset by creating modified versions of images in the dataset.The Keras deep learning neural network library provides the capability to fit models using image data augmentation via the ImageDataGenerator class."
      ]
    },
    {
      "cell_type": "code",
      "metadata": {
        "id": "DFt8B8SU7mj_"
      },
      "source": [
        "train_datagen = ImageDataGenerator(\n",
        "    rescale=1./255,\n",
        "    rotation_range=30,\n",
        "    shear_range=0.3,\n",
        "    zoom_range=0.3,\n",
        "    width_shift_range=0.4,\n",
        "    height_shift_range=0.4,\n",
        "    horizontal_flip=True,\n",
        "    fill_mode='nearest')\n",
        "\n",
        "validation_datagen = ImageDataGenerator(rescale=1./255)"
      ],
      "execution_count": 7,
      "outputs": []
    },
    {
      "cell_type": "markdown",
      "metadata": {
        "id": "BcEtzISU7sL1"
      },
      "source": [
        "The train_datagen variable will artificially expand the dataset using the following:\n",
        "\n",
        "- rotation_range: Degree range for random rotations. Here i am using 30$^\\circ$\n",
        "- shear_range: Shear Intensity (Shear angle in counter-clockwise direction in degrees). Here i am using 0.3 as shear range.\n",
        "- zoom_range: Range for random zoom..Here i am using 0.3 as zoom range.\n",
        "width_shift_range: This shifts the images by a value across its width.\n",
        "- height_shift_range : This shifts the images by a value across its height.\n",
        "horizontal_flip: This flips the images horizontally.\n",
        "- fill_mode: This is used to fill in the pixels after making changes to the orientation of the images by the above used methods. Here i am using 'nearest' as the fill mode as i am instructing it to fill the missing pixels in the image with the nearby pixels.\n",
        "\n",
        "Here i am resclaing the validation data and not performing any other augmentaions as i want to check the model with raw data that is different from the data used in the training of the model."
      ]
    },
    {
      "cell_type": "code",
      "metadata": {
        "colab": {
          "base_uri": "https://localhost:8080/"
        },
        "id": "v6YpYhXg75ll",
        "outputId": "6e7716a2-3b58-4193-997b-fd72cfd8c9cd"
      },
      "source": [
        "train_generator = train_datagen.flow_from_directory(\n",
        "                        train_data_dir,\n",
        "                        color_mode='grayscale',\n",
        "                        target_size=(img_rows,img_cols),\n",
        "                        batch_size=batch_size,\n",
        "                        class_mode='categorical',\n",
        "                        shuffle=True)\n",
        "\n",
        "validation_generator = validation_datagen.flow_from_directory(\n",
        "                                validation_data_dir,\n",
        "                                color_mode='grayscale',\n",
        "                                target_size=(img_rows,img_cols),\n",
        "                                batch_size=batch_size,\n",
        "                                class_mode='categorical',\n",
        "                                shuffle=True)"
      ],
      "execution_count": 8,
      "outputs": [
        {
          "output_type": "stream",
          "text": [
            "Found 24256 images belonging to 5 classes.\n",
            "Found 3006 images belonging to 5 classes.\n"
          ],
          "name": "stdout"
        }
      ]
    },
    {
      "cell_type": "markdown",
      "metadata": {
        "id": "gLDaP9RQ8M5d"
      },
      "source": [
        "Now i am using the **flow_from_directory()** method to load our dataset from the directory which is augmented and stored in the train_generator and validation_generator variables.**flow_from_directory()** actually takes the path to a directory & generates batches of augmented data. So here i am giving some options to the method to automatically change the dimention and divide it in the classes so that it is easier to feed in the model.\n",
        "\n",
        "The options given are:\n",
        "\n",
        "- directory: The directory of the dataset.\n",
        "- color_mode: Here i am converting the images to grayscale as i am not interested in the color of the images but only the expressions.\n",
        "- target_size: Convert the images to a uniform size.\n",
        "- batch_size: To make baches of data to train.\n",
        "- class_mode: Here i am using 'categorical' as the class mode as i am categorizing my images into 5 classes.\n",
        "- shuffle: To shuffle the dataset for better training.\n"
      ]
    },
    {
      "cell_type": "markdown",
      "metadata": {
        "id": "hekqCz8P8gql"
      },
      "source": [
        "The dataset modifications is complete and now it's time to make the brain of the model i.e. the CNN Network.\n",
        "\n",
        "So firstly i will define the type of model that i will be using. Here i am using a **Sequential** model which defines that all the layers in the network will be one after the other sequentially."
      ]
    },
    {
      "cell_type": "code",
      "metadata": {
        "id": "gDlkc_Ta8kRc"
      },
      "source": [
        "model = Sequential()"
      ],
      "execution_count": 9,
      "outputs": []
    },
    {
      "cell_type": "markdown",
      "metadata": {
        "id": "tB3aVtDb8r_U"
      },
      "source": [
        "Our network will consist of 7 blocks"
      ]
    },
    {
      "cell_type": "markdown",
      "metadata": {
        "id": "enSWm35s8w4U"
      },
      "source": [
        "**Block-1**"
      ]
    },
    {
      "cell_type": "code",
      "metadata": {
        "id": "Y6vq5BpH8zNE"
      },
      "source": [
        "model.add(Conv2D(32,(3,3),padding='same',kernel_initializer='he_normal',input_shape=(img_rows,img_cols,1)))\n",
        "model.add(Activation('elu'))\n",
        "model.add(BatchNormalization())\n",
        "model.add(Conv2D(32,(3,3),padding='same',kernel_initializer='he_normal',input_shape=(img_rows,img_cols,1)))\n",
        "model.add(Activation('elu'))\n",
        "model.add(BatchNormalization())\n",
        "model.add(MaxPooling2D(pool_size=(2,2)))\n",
        "model.add(Dropout(0.2))"
      ],
      "execution_count": 10,
      "outputs": []
    },
    {
      "cell_type": "markdown",
      "metadata": {
        "id": "edMPOFLc846M"
      },
      "source": [
        "**Block-2**"
      ]
    },
    {
      "cell_type": "code",
      "metadata": {
        "id": "xAHSTuuP86vV"
      },
      "source": [
        "model.add(Conv2D(64,(3,3),padding='same',kernel_initializer='he_normal'))\n",
        "model.add(Activation('elu'))\n",
        "model.add(BatchNormalization())\n",
        "model.add(Conv2D(64,(3,3),padding='same',kernel_initializer='he_normal'))\n",
        "model.add(Activation('elu'))\n",
        "model.add(BatchNormalization())\n",
        "model.add(MaxPooling2D(pool_size=(2,2)))\n",
        "model.add(Dropout(0.2))"
      ],
      "execution_count": 11,
      "outputs": []
    },
    {
      "cell_type": "markdown",
      "metadata": {
        "id": "E6PniAh189kl"
      },
      "source": [
        "**Block-3**"
      ]
    },
    {
      "cell_type": "code",
      "metadata": {
        "id": "AWUERQu18_vE"
      },
      "source": [
        "model.add(Conv2D(128,(3,3),padding='same',kernel_initializer='he_normal'))\n",
        "model.add(Activation('elu'))\n",
        "model.add(BatchNormalization())\n",
        "model.add(Conv2D(128,(3,3),padding='same',kernel_initializer='he_normal'))\n",
        "model.add(Activation('elu'))\n",
        "model.add(BatchNormalization())\n",
        "model.add(MaxPooling2D(pool_size=(2,2)))\n",
        "model.add(Dropout(0.2))"
      ],
      "execution_count": 12,
      "outputs": []
    },
    {
      "cell_type": "markdown",
      "metadata": {
        "id": "PvzvpoQX9DZ0"
      },
      "source": [
        "**Block-4**"
      ]
    },
    {
      "cell_type": "code",
      "metadata": {
        "id": "IG_N9DgO9F8k"
      },
      "source": [
        "model.add(Conv2D(256,(3,3),padding='same',kernel_initializer='he_normal'))\n",
        "model.add(Activation('elu'))\n",
        "model.add(BatchNormalization())\n",
        "model.add(Conv2D(256,(3,3),padding='same',kernel_initializer='he_normal'))\n",
        "model.add(Activation('elu'))\n",
        "model.add(BatchNormalization())\n",
        "model.add(MaxPooling2D(pool_size=(2,2)))\n",
        "model.add(Dropout(0.2))"
      ],
      "execution_count": 13,
      "outputs": []
    },
    {
      "cell_type": "markdown",
      "metadata": {
        "id": "QKDQq4hR9HJL"
      },
      "source": [
        "**Block-5**"
      ]
    },
    {
      "cell_type": "code",
      "metadata": {
        "id": "nrVboDgw9JPu"
      },
      "source": [
        "model.add(Flatten())\n",
        "model.add(Dense(64,kernel_initializer='he_normal'))\n",
        "model.add(Activation('elu'))\n",
        "model.add(BatchNormalization())\n",
        "model.add(Dropout(0.5))"
      ],
      "execution_count": 14,
      "outputs": []
    },
    {
      "cell_type": "markdown",
      "metadata": {
        "id": "rQLgR0IG9Ls0"
      },
      "source": [
        "**Block-6**"
      ]
    },
    {
      "cell_type": "code",
      "metadata": {
        "id": "O7ey5FP49NXF"
      },
      "source": [
        "model.add(Dense(64,kernel_initializer='he_normal'))\n",
        "model.add(Activation('elu'))\n",
        "model.add(BatchNormalization())\n",
        "model.add(Dropout(0.5))\n"
      ],
      "execution_count": 15,
      "outputs": []
    },
    {
      "cell_type": "markdown",
      "metadata": {
        "id": "cRV2vUXq9P7t"
      },
      "source": [
        "**Block-7**"
      ]
    },
    {
      "cell_type": "code",
      "metadata": {
        "id": "pg9Kg5Pi9R1L"
      },
      "source": [
        "model.add(Dense(num_classes,kernel_initializer='he_normal'))\n",
        "model.add(Activation('softmax'))"
      ],
      "execution_count": 16,
      "outputs": []
    },
    {
      "cell_type": "markdown",
      "metadata": {
        "id": "WjJcoRFA9mot"
      },
      "source": [
        "This seems a lot actually it is a lot.\n",
        "\n",
        "Here i have used the layers of 7 types which are present in keras.layers.\n",
        "\n",
        "The layers are:\n",
        "\n",
        "- Conv2D( filters, kernel_size, strides=(1, 1), padding='valid', data_format=None, dilation_rate=(1, 1), activation=None, use_bias=True, kernel_initializer='glorot_uniform', bias_initializer='zeros', kernel_regularizer=None, bias_regularizer=None, activity_regularizer=None, kernel_constraint=None, bias_constraint=None, **kwargs )\n",
        "- Activation(activation_type)\n",
        "- BatchNormalization()\n",
        "- MaxPooling2D(pool_size, strides, padding, data_format, **kwargs)\n",
        "- Dropout(dropout_value)\n",
        "- Flatten()\n",
        "- Dense( units, activation=None, use_bias=True, kernel_initializer=\"glorot_uniform\", bias_initializer=\"zeros\", kernel_regularizer=None, bias_regularizer=None, activity_regularizer=None, kernel_constraint=None, bias_constraint=None, **kwargs)\n",
        "\n"
      ]
    },
    {
      "cell_type": "markdown",
      "metadata": {
        "id": "6R9u8Efr92Zl"
      },
      "source": [
        "**Block-1 layers in the order of occurrence are as follows :**"
      ]
    },
    {
      "cell_type": "markdown",
      "metadata": {
        "id": "0RzSa_rL96wb"
      },
      "source": [
        "- Conv2D layer- This layer creates a convolutional layer for the network. Here i am creating a layer with 32 filters and a filter size of (3,3) with padding='same' to pad the image and using the kernel initializer he_normal. I have added 2 convolutional layers each followed by an activation and batch normalization layers.\n",
        "- Activation layer - I am using a elu activation.\n",
        "- BatchNormalization - Normalize the activations of the previous layer at each batch, i.e. applies a transformation that maintains the mean activation close to 0 and the activation standard deviation close to 1.\n",
        "- MaxPooling2D layer - Downsamples the input representation by taking the maximum value over the window defined by pool_size for each dimension along the features axis.Here i have used the pool_size as (2,2).\n",
        "- Dropout: Dropout is a technique where randomly selected neurons are ignored during training. Here i am using dropout as 0.5 which means that it will ignore half of the neurons."
      ]
    },
    {
      "cell_type": "markdown",
      "metadata": {
        "id": "xjeofdPp-0WT"
      },
      "source": [
        "**Block-2 layers in the order of occurrence are as follows :**\n",
        "\n",
        "- Same layers as block-1 but the convolutional layers have 128 filters.\n"
      ]
    },
    {
      "cell_type": "markdown",
      "metadata": {
        "id": "afvINJiU-4Si"
      },
      "source": [
        "**Block-3 layers in the order of occurrence are as follows :**\n",
        "\n",
        "- Same layers as block-1 but the convolutional layers have 128 filters.\n"
      ]
    },
    {
      "cell_type": "markdown",
      "metadata": {
        "id": "5W29HG5b_CVq"
      },
      "source": [
        "**Block-4 layers in the order of occurrence are as follows :**\n",
        "\n",
        "- Same layers as block-1 but the convolutional layers have 256 filters.\n"
      ]
    },
    {
      "cell_type": "markdown",
      "metadata": {
        "id": "R4sR79P7_IhK"
      },
      "source": [
        "**Block-5 layers in the order of occurrence are as follows :**\n",
        "\n",
        "- Flatten layer - To flatten the output of the previous layers in a falat layer or in other words in the form of a vector.\n",
        "Dense layer - A densely connected layer where each neuron is connected to every other neuron. Here i am using 64 units or 64 neurons with a kernal initializer - he_normal.\n",
        "These layers are followed by activation layer with elu activation , batch normalization and finally a dropout with 50% dropout."
      ]
    },
    {
      "cell_type": "markdown",
      "metadata": {
        "id": "5C4KBHXt_Od6"
      },
      "source": [
        "**Block-6 layers in the order of occurrence are as follows :**\n",
        "\n",
        "- Same layers as blcok 5 but without flatten layer as the input for this block is already flattened.\n"
      ]
    },
    {
      "cell_type": "markdown",
      "metadata": {
        "id": "q-kF81do_RHp"
      },
      "source": [
        "**Block-7 layers in the order of occurrence are as follows :**\n",
        "\n",
        "- Dense layer - Finally in the final block of the network i am using num_classes to create a dense layer having units=number of classes with a he_normal initializer.\n",
        "\n",
        "- Activation layer - Here i am using a softmax layer which is used for multi-class classifications.\n",
        "\n",
        "Too many layers, but finally it's over!!\n",
        "\n",
        "Now to check the overall structure of the model:"
      ]
    },
    {
      "cell_type": "code",
      "metadata": {
        "colab": {
          "base_uri": "https://localhost:8080/"
        },
        "id": "TGR5056I_bUh",
        "outputId": "6b3bf7de-ac3f-4ca9-f866-abaf24f8c8ee"
      },
      "source": [
        "print(model.summary())"
      ],
      "execution_count": 17,
      "outputs": [
        {
          "output_type": "stream",
          "text": [
            "Model: \"sequential\"\n",
            "_________________________________________________________________\n",
            "Layer (type)                 Output Shape              Param #   \n",
            "=================================================================\n",
            "conv2d (Conv2D)              (None, 48, 48, 32)        320       \n",
            "_________________________________________________________________\n",
            "activation (Activation)      (None, 48, 48, 32)        0         \n",
            "_________________________________________________________________\n",
            "batch_normalization (BatchNo (None, 48, 48, 32)        128       \n",
            "_________________________________________________________________\n",
            "conv2d_1 (Conv2D)            (None, 48, 48, 32)        9248      \n",
            "_________________________________________________________________\n",
            "activation_1 (Activation)    (None, 48, 48, 32)        0         \n",
            "_________________________________________________________________\n",
            "batch_normalization_1 (Batch (None, 48, 48, 32)        128       \n",
            "_________________________________________________________________\n",
            "max_pooling2d (MaxPooling2D) (None, 24, 24, 32)        0         \n",
            "_________________________________________________________________\n",
            "dropout (Dropout)            (None, 24, 24, 32)        0         \n",
            "_________________________________________________________________\n",
            "conv2d_2 (Conv2D)            (None, 24, 24, 64)        18496     \n",
            "_________________________________________________________________\n",
            "activation_2 (Activation)    (None, 24, 24, 64)        0         \n",
            "_________________________________________________________________\n",
            "batch_normalization_2 (Batch (None, 24, 24, 64)        256       \n",
            "_________________________________________________________________\n",
            "conv2d_3 (Conv2D)            (None, 24, 24, 64)        36928     \n",
            "_________________________________________________________________\n",
            "activation_3 (Activation)    (None, 24, 24, 64)        0         \n",
            "_________________________________________________________________\n",
            "batch_normalization_3 (Batch (None, 24, 24, 64)        256       \n",
            "_________________________________________________________________\n",
            "max_pooling2d_1 (MaxPooling2 (None, 12, 12, 64)        0         \n",
            "_________________________________________________________________\n",
            "dropout_1 (Dropout)          (None, 12, 12, 64)        0         \n",
            "_________________________________________________________________\n",
            "conv2d_4 (Conv2D)            (None, 12, 12, 128)       73856     \n",
            "_________________________________________________________________\n",
            "activation_4 (Activation)    (None, 12, 12, 128)       0         \n",
            "_________________________________________________________________\n",
            "batch_normalization_4 (Batch (None, 12, 12, 128)       512       \n",
            "_________________________________________________________________\n",
            "conv2d_5 (Conv2D)            (None, 12, 12, 128)       147584    \n",
            "_________________________________________________________________\n",
            "activation_5 (Activation)    (None, 12, 12, 128)       0         \n",
            "_________________________________________________________________\n",
            "batch_normalization_5 (Batch (None, 12, 12, 128)       512       \n",
            "_________________________________________________________________\n",
            "max_pooling2d_2 (MaxPooling2 (None, 6, 6, 128)         0         \n",
            "_________________________________________________________________\n",
            "dropout_2 (Dropout)          (None, 6, 6, 128)         0         \n",
            "_________________________________________________________________\n",
            "conv2d_6 (Conv2D)            (None, 6, 6, 256)         295168    \n",
            "_________________________________________________________________\n",
            "activation_6 (Activation)    (None, 6, 6, 256)         0         \n",
            "_________________________________________________________________\n",
            "batch_normalization_6 (Batch (None, 6, 6, 256)         1024      \n",
            "_________________________________________________________________\n",
            "conv2d_7 (Conv2D)            (None, 6, 6, 256)         590080    \n",
            "_________________________________________________________________\n",
            "activation_7 (Activation)    (None, 6, 6, 256)         0         \n",
            "_________________________________________________________________\n",
            "batch_normalization_7 (Batch (None, 6, 6, 256)         1024      \n",
            "_________________________________________________________________\n",
            "max_pooling2d_3 (MaxPooling2 (None, 3, 3, 256)         0         \n",
            "_________________________________________________________________\n",
            "dropout_3 (Dropout)          (None, 3, 3, 256)         0         \n",
            "_________________________________________________________________\n",
            "flatten (Flatten)            (None, 2304)              0         \n",
            "_________________________________________________________________\n",
            "dense (Dense)                (None, 64)                147520    \n",
            "_________________________________________________________________\n",
            "activation_8 (Activation)    (None, 64)                0         \n",
            "_________________________________________________________________\n",
            "batch_normalization_8 (Batch (None, 64)                256       \n",
            "_________________________________________________________________\n",
            "dropout_4 (Dropout)          (None, 64)                0         \n",
            "_________________________________________________________________\n",
            "dense_1 (Dense)              (None, 64)                4160      \n",
            "_________________________________________________________________\n",
            "activation_9 (Activation)    (None, 64)                0         \n",
            "_________________________________________________________________\n",
            "batch_normalization_9 (Batch (None, 64)                256       \n",
            "_________________________________________________________________\n",
            "dropout_5 (Dropout)          (None, 64)                0         \n",
            "_________________________________________________________________\n",
            "dense_2 (Dense)              (None, 5)                 325       \n",
            "_________________________________________________________________\n",
            "activation_10 (Activation)   (None, 5)                 0         \n",
            "=================================================================\n",
            "Total params: 1,328,037\n",
            "Trainable params: 1,325,861\n",
            "Non-trainable params: 2,176\n",
            "_________________________________________________________________\n",
            "None\n"
          ],
          "name": "stdout"
        }
      ]
    },
    {
      "cell_type": "markdown",
      "metadata": {
        "id": "IV4nLVCg_lxh"
      },
      "source": [
        "Now the only thing left is to compile and train the model. But first let's import some more things."
      ]
    },
    {
      "cell_type": "code",
      "metadata": {
        "id": "XfTWu5MY_mpq"
      },
      "source": [
        "from keras.optimizers import RMSprop,SGD,Adam\n",
        "from keras.callbacks import ModelCheckpoint, EarlyStopping, ReduceLROnPlateau"
      ],
      "execution_count": 18,
      "outputs": []
    },
    {
      "cell_type": "markdown",
      "metadata": {
        "id": "lFo5rahM_rQh"
      },
      "source": [
        "Before compiling i will create 3 things using **keras.callbacks** class:"
      ]
    },
    {
      "cell_type": "markdown",
      "metadata": {
        "id": "6oAQmsvV_twB"
      },
      "source": [
        "**Checkpoint( Function - ModelCheckpoint() )**\n",
        "\n",
        "It will monitor the validation loss and will try to minimise the loss using the mode='min' property. When the checkpoint is reached it will save the best trained weights. Verbose=1 is just for visulaisation when the code created checkpoint.Here i am using it's following parameters:\n",
        "\n",
        "- filepath: Path to save the model file.Here i am saving the model file with the name EmotionDetectionModel.h5\n",
        "- monitor: Quantity to monitor.Here i am monitoring the validation loss.\n",
        "- mode: One of {auto, min, max}. If save_best_only=True, the decision to overwrite the current save file is made based on either the maximization or the minimization of the monitored quantity.\n",
        "- save_best_only: If save_best_only=True, the latest best model according to the quantity monitored will not be overwritten.\n",
        "- verbose: int. 0: quiet, 1: update messages."
      ]
    },
    {
      "cell_type": "markdown",
      "metadata": {
        "id": "3qVK_cEM_8uq"
      },
      "source": [
        "**Early Stopping ( Function - EarlyStopping() )**\n",
        "\n",
        "This will stop the execution early by checking the following properties.\n",
        "\n",
        "- monitor: Quantity to monitor.Here i am monitoring the validation loss.\n",
        "- min_delta: Minimum change in the monitored quantity to qualify as an improvement, i.e. an absolute change of less than min_delta, will count as no improvement.Here i have given it 0.\n",
        "- patience: Number of epochs with no improvement after which training will be stopped. Here i have given it 3.\n",
        "- restore_best_weights: Whether to restore model weights from the epoch with the best value of the monitored quantity. If False, the model weights obtained at the last step of training are used.Here i have given it True.\n",
        "- verbose: int. 0: quiet, 1: update messages."
      ]
    },
    {
      "cell_type": "markdown",
      "metadata": {
        "id": "N0uEOAyTAH_p"
      },
      "source": [
        "**Reduce Learning Rate ( Function - ReduceLROnPlateau() )**\n",
        "\n",
        "Models often benefit from reducing the learning rate by a factor of 2-10 once learning stagnates. This callback monitors a quantity and if no improvement is seen for a 'patience' number of epochs, the learning rate is reduced. I have used the following properties for this.\n",
        "\n",
        "- monitor: To monitor a particular loss. Here i am monitoring the validation loss.\n",
        "- factor: Factor by which the learning rate will be reduced. new_lr = lr * factor. Here i am using 0.2 as factor.\n",
        "- patience: Number of epochs with no improvement after which learning rate will be reduced.Here i am using 3.\n",
        "- min_delta: Threshold for measuring the new optimum, to only focus on significant changes.\n",
        "- verbose: int. 0: quiet, 1: update messages."
      ]
    },
    {
      "cell_type": "code",
      "metadata": {
        "id": "9iehOhiTAPhP"
      },
      "source": [
        "checkpoint = ModelCheckpoint('EmotionDetectionModel.h5',\n",
        "                             monitor='val_loss',\n",
        "                             mode='min',\n",
        "                             save_best_only=True,\n",
        "                             verbose=1)\n",
        "\n",
        "earlystop = EarlyStopping(monitor='val_loss',\n",
        "                          min_delta=0,\n",
        "                          patience=3,\n",
        "                          verbose=1,\n",
        "                          restore_best_weights=True\n",
        "                          )\n",
        "\n",
        "reduce_lr = ReduceLROnPlateau(monitor='val_loss',\n",
        "                              factor=0.2,\n",
        "                              patience=3,\n",
        "                              verbose=1,\n",
        "                              min_delta=0.0001)\n",
        "\n",
        "callbacks = [earlystop,checkpoint,reduce_lr]"
      ],
      "execution_count": 19,
      "outputs": []
    },
    {
      "cell_type": "markdown",
      "metadata": {
        "id": "vNvLbobnAVo4"
      },
      "source": [
        "**model.compile()**\n",
        "\n",
        "It has the following arguments:\n",
        "\n",
        "- loss: This value will determine the type of loss function to use in your code. Here i have categorical data in 5 categories or classes so i have used 'categorical_crossentropy' loss.\n",
        "- optimizer: This value will determine the type of optimizer function to use in your code.Here i have used Adam optimizer with learning rate 0.001 as it is the best optimizer for categorical data.\n",
        "- metrics: The metrics argument should be a list - you model can have any number of metrics.It is the list of metrics to be evaluated by the model during training and testing.Here i have used accuracy as metric which will compile mu model according to the accuracy.\n",
        "\n",
        "**model.fit_generator()**\n",
        "\n",
        "Fits the model on data yielded batch-by-batch by a Python generator.\n",
        "\n",
        "It has the following arguments:\n",
        "\n",
        "- generator: The train_generator object that we created earlier.\n",
        "- steps_per_epochs: The steps to take on the training data in one epoch.\n",
        "- epochs: The total number of epochs (pass though the whole dataset once).\n",
        "- callbacks: The list containing all the callbacks that we created earlier.\n",
        "- validation_data: The validation_generator object that we created earlier.\n",
        "- validation_steps: The steps to take on the validation data in one epoch."
      ]
    },
    {
      "cell_type": "code",
      "metadata": {
        "colab": {
          "base_uri": "https://localhost:8080/"
        },
        "id": "CWb1lB-lA1sx",
        "outputId": "95aa2563-8335-4b56-f43c-9f24584de1cf"
      },
      "source": [
        "model.compile(loss='categorical_crossentropy',\n",
        "              optimizer = Adam(lr=0.001),\n",
        "              metrics=['accuracy'])\n",
        "\n",
        "nb_train_samples = 24176\n",
        "nb_validation_samples = 3006\n",
        "epochs=25\n",
        "\n",
        "history=model.fit(\n",
        "                train_generator,\n",
        "                steps_per_epoch=nb_train_samples//batch_size,\n",
        "                epochs=epochs,\n",
        "                callbacks=callbacks,\n",
        "                validation_data=validation_generator,\n",
        "                validation_steps=nb_validation_samples//batch_size)"
      ],
      "execution_count": 22,
      "outputs": [
        {
          "output_type": "stream",
          "text": [
            "Epoch 1/25\n",
            "755/755 [==============================] - 6721s 9s/step - loss: 2.1165 - accuracy: 0.2255 - val_loss: 1.5486 - val_accuracy: 0.2923\n",
            "\n",
            "Epoch 00001: val_loss improved from inf to 1.54860, saving model to EmotionDetectionModel.h5\n",
            "Epoch 2/25\n",
            "755/755 [==============================] - 68s 90ms/step - loss: 1.5952 - accuracy: 0.2745 - val_loss: 1.6238 - val_accuracy: 0.2665\n",
            "\n",
            "Epoch 00002: val_loss did not improve from 1.54860\n",
            "Epoch 3/25\n",
            "755/755 [==============================] - 51s 67ms/step - loss: 1.5542 - accuracy: 0.3051 - val_loss: 1.5229 - val_accuracy: 0.3128\n",
            "\n",
            "Epoch 00003: val_loss improved from 1.54860 to 1.52287, saving model to EmotionDetectionModel.h5\n",
            "Epoch 4/25\n",
            "755/755 [==============================] - 51s 67ms/step - loss: 1.5345 - accuracy: 0.3145 - val_loss: 1.4450 - val_accuracy: 0.3599\n",
            "\n",
            "Epoch 00004: val_loss improved from 1.52287 to 1.44504, saving model to EmotionDetectionModel.h5\n",
            "Epoch 5/25\n",
            "755/755 [==============================] - 50s 66ms/step - loss: 1.4800 - accuracy: 0.3482 - val_loss: 1.3228 - val_accuracy: 0.4546\n",
            "\n",
            "Epoch 00005: val_loss improved from 1.44504 to 1.32278, saving model to EmotionDetectionModel.h5\n",
            "Epoch 6/25\n",
            "755/755 [==============================] - 51s 68ms/step - loss: 1.3906 - accuracy: 0.4060 - val_loss: 1.4752 - val_accuracy: 0.4869\n",
            "\n",
            "Epoch 00006: val_loss did not improve from 1.32278\n",
            "Epoch 7/25\n",
            "755/755 [==============================] - 50s 67ms/step - loss: 1.2930 - accuracy: 0.4670 - val_loss: 1.4250 - val_accuracy: 0.4960\n",
            "\n",
            "Epoch 00007: val_loss did not improve from 1.32278\n",
            "Epoch 8/25\n",
            "755/755 [==============================] - 50s 66ms/step - loss: 1.2340 - accuracy: 0.4876 - val_loss: 1.2816 - val_accuracy: 0.5161\n",
            "\n",
            "Epoch 00008: val_loss improved from 1.32278 to 1.28162, saving model to EmotionDetectionModel.h5\n",
            "Epoch 9/25\n",
            "755/755 [==============================] - 49s 65ms/step - loss: 1.1989 - accuracy: 0.5069 - val_loss: 1.3198 - val_accuracy: 0.5356\n",
            "\n",
            "Epoch 00009: val_loss did not improve from 1.28162\n",
            "Epoch 10/25\n",
            "755/755 [==============================] - 49s 65ms/step - loss: 1.1570 - accuracy: 0.5234 - val_loss: 1.2642 - val_accuracy: 0.5511\n",
            "\n",
            "Epoch 00010: val_loss improved from 1.28162 to 1.26419, saving model to EmotionDetectionModel.h5\n",
            "Epoch 11/25\n",
            "755/755 [==============================] - 50s 66ms/step - loss: 1.1372 - accuracy: 0.5403 - val_loss: 1.3975 - val_accuracy: 0.5504\n",
            "\n",
            "Epoch 00011: val_loss did not improve from 1.26419\n",
            "Epoch 12/25\n",
            "755/755 [==============================] - 50s 67ms/step - loss: 1.1197 - accuracy: 0.5538 - val_loss: 1.2581 - val_accuracy: 0.5393\n",
            "\n",
            "Epoch 00012: val_loss improved from 1.26419 to 1.25809, saving model to EmotionDetectionModel.h5\n",
            "Epoch 13/25\n",
            "755/755 [==============================] - 50s 67ms/step - loss: 1.0950 - accuracy: 0.5626 - val_loss: 1.2889 - val_accuracy: 0.5780\n",
            "\n",
            "Epoch 00013: val_loss did not improve from 1.25809\n",
            "Epoch 14/25\n",
            "755/755 [==============================] - 51s 67ms/step - loss: 1.0835 - accuracy: 0.5672 - val_loss: 1.2133 - val_accuracy: 0.5706\n",
            "\n",
            "Epoch 00014: val_loss improved from 1.25809 to 1.21329, saving model to EmotionDetectionModel.h5\n",
            "Epoch 15/25\n",
            "755/755 [==============================] - 51s 68ms/step - loss: 1.0808 - accuracy: 0.5732 - val_loss: 1.2813 - val_accuracy: 0.5608\n",
            "\n",
            "Epoch 00015: val_loss did not improve from 1.21329\n",
            "Epoch 16/25\n",
            "755/755 [==============================] - 52s 69ms/step - loss: 1.0649 - accuracy: 0.5777 - val_loss: 1.2195 - val_accuracy: 0.5827\n",
            "\n",
            "Epoch 00016: val_loss did not improve from 1.21329\n",
            "Epoch 17/25\n",
            "755/755 [==============================] - 52s 69ms/step - loss: 1.0403 - accuracy: 0.5958 - val_loss: 1.1428 - val_accuracy: 0.6035\n",
            "\n",
            "Epoch 00017: val_loss improved from 1.21329 to 1.14275, saving model to EmotionDetectionModel.h5\n",
            "Epoch 18/25\n",
            "755/755 [==============================] - 53s 71ms/step - loss: 1.0223 - accuracy: 0.5931 - val_loss: 1.1550 - val_accuracy: 0.6011\n",
            "\n",
            "Epoch 00018: val_loss did not improve from 1.14275\n",
            "Epoch 19/25\n",
            "755/755 [==============================] - 53s 70ms/step - loss: 1.0216 - accuracy: 0.6029 - val_loss: 1.2031 - val_accuracy: 0.5995\n",
            "\n",
            "Epoch 00019: val_loss did not improve from 1.14275\n",
            "Epoch 20/25\n",
            "755/755 [==============================] - 52s 69ms/step - loss: 1.0172 - accuracy: 0.6053 - val_loss: 1.2425 - val_accuracy: 0.5790\n",
            "Restoring model weights from the end of the best epoch.\n",
            "\n",
            "Epoch 00020: val_loss did not improve from 1.14275\n",
            "\n",
            "Epoch 00020: ReduceLROnPlateau reducing learning rate to 0.00020000000949949026.\n",
            "Epoch 00020: early stopping\n"
          ],
          "name": "stdout"
        }
      ]
    }
  ]
}